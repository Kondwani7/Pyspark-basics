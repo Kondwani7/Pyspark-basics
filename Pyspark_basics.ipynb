{
  "nbformat": 4,
  "nbformat_minor": 0,
  "metadata": {
    "colab": {
      "name": "Pyspark_basics.ipynb",
      "provenance": [],
      "collapsed_sections": [],
      "authorship_tag": "ABX9TyMn8sU/ZRtJfulHb7Z3L/s0",
      "include_colab_link": true
    },
    "kernelspec": {
      "name": "python3",
      "display_name": "Python 3"
    },
    "language_info": {
      "name": "python"
    }
  },
  "cells": [
    {
      "cell_type": "markdown",
      "metadata": {
        "id": "view-in-github",
        "colab_type": "text"
      },
      "source": [
        "<a href=\"https://colab.research.google.com/github/Kondwani7/Pyspark-basics/blob/main/Pyspark_basics.ipynb\" target=\"_parent\"><img src=\"https://colab.research.google.com/assets/colab-badge.svg\" alt=\"Open In Colab\"/></a>"
      ]
    },
    {
      "cell_type": "code",
      "source": [
        "from google.colab import drive\n",
        "drive.mount('/content/drive', force_remount= True)"
      ],
      "metadata": {
        "colab": {
          "base_uri": "https://localhost:8080/"
        },
        "id": "81qlMHnqUSdB",
        "outputId": "6ba3fd03-9523-41f5-eb4b-2d57db6793ea"
      },
      "execution_count": 63,
      "outputs": [
        {
          "output_type": "stream",
          "name": "stdout",
          "text": [
            "Mounted at /content/drive\n"
          ]
        }
      ]
    },
    {
      "cell_type": "code",
      "execution_count": 3,
      "metadata": {
        "colab": {
          "base_uri": "https://localhost:8080/"
        },
        "id": "hx4FDKroEBxN",
        "outputId": "6b6bb5e1-330f-46bf-b4fb-eb3add748922"
      },
      "outputs": [
        {
          "output_type": "stream",
          "name": "stdout",
          "text": [
            "Collecting pyspark\n",
            "  Downloading pyspark-3.2.0.tar.gz (281.3 MB)\n",
            "\u001b[K     |████████████████████████████████| 281.3 MB 40 kB/s \n",
            "\u001b[?25hCollecting py4j==0.10.9.2\n",
            "  Downloading py4j-0.10.9.2-py2.py3-none-any.whl (198 kB)\n",
            "\u001b[K     |████████████████████████████████| 198 kB 41.9 MB/s \n",
            "\u001b[?25hBuilding wheels for collected packages: pyspark\n",
            "  Building wheel for pyspark (setup.py) ... \u001b[?25l\u001b[?25hdone\n",
            "  Created wheel for pyspark: filename=pyspark-3.2.0-py2.py3-none-any.whl size=281805912 sha256=6bd00e19b1aedf82f81f571e8c967db32595e7f720a4195f63dd2cf1e9039b58\n",
            "  Stored in directory: /root/.cache/pip/wheels/0b/de/d2/9be5d59d7331c6c2a7c1b6d1a4f463ce107332b1ecd4e80718\n",
            "Successfully built pyspark\n",
            "Installing collected packages: py4j, pyspark\n",
            "Successfully installed py4j-0.10.9.2 pyspark-3.2.0\n"
          ]
        }
      ],
      "source": [
        "!pip install pyspark"
      ]
    },
    {
      "cell_type": "code",
      "source": [
        "!pip install findspark"
      ],
      "metadata": {
        "colab": {
          "base_uri": "https://localhost:8080/"
        },
        "id": "pkV9z3n8EO9k",
        "outputId": "58115bca-9965-4152-ba7d-8c72429beecc"
      },
      "execution_count": 2,
      "outputs": [
        {
          "output_type": "stream",
          "name": "stdout",
          "text": [
            "Collecting findspark\n",
            "  Downloading findspark-1.4.2-py2.py3-none-any.whl (4.2 kB)\n",
            "Installing collected packages: findspark\n",
            "Successfully installed findspark-1.4.2\n"
          ]
        }
      ]
    },
    {
      "cell_type": "code",
      "source": [
        "import pyspark\n",
        "import findspark"
      ],
      "metadata": {
        "id": "rb7hyfJdEk7h"
      },
      "execution_count": 64,
      "outputs": []
    },
    {
      "cell_type": "code",
      "source": [
        "sc = pyspark.SparkContext(appName='maps_lazy_evaluation')"
      ],
      "metadata": {
        "colab": {
          "base_uri": "https://localhost:8080/",
          "height": 207
        },
        "id": "bitwFeLaEc-v",
        "outputId": "1ec2efd1-2bd0-41ed-8678-4fa9f4ecb719"
      },
      "execution_count": 65,
      "outputs": [
        {
          "output_type": "error",
          "ename": "ValueError",
          "evalue": "ignored",
          "traceback": [
            "\u001b[0;31m---------------------------------------------------------------------------\u001b[0m",
            "\u001b[0;31mValueError\u001b[0m                                Traceback (most recent call last)",
            "\u001b[0;32m<ipython-input-65-0fbe3f522d15>\u001b[0m in \u001b[0;36m<module>\u001b[0;34m()\u001b[0m\n\u001b[0;32m----> 1\u001b[0;31m \u001b[0msc\u001b[0m \u001b[0;34m=\u001b[0m \u001b[0mpyspark\u001b[0m\u001b[0;34m.\u001b[0m\u001b[0mSparkContext\u001b[0m\u001b[0;34m(\u001b[0m\u001b[0mappName\u001b[0m\u001b[0;34m=\u001b[0m\u001b[0;34m'maps_lazy_evaluation'\u001b[0m\u001b[0;34m)\u001b[0m\u001b[0;34m\u001b[0m\u001b[0;34m\u001b[0m\u001b[0m\n\u001b[0m",
            "\u001b[0;32m/usr/local/lib/python3.7/dist-packages/pyspark/context.py\u001b[0m in \u001b[0;36m__init__\u001b[0;34m(self, master, appName, sparkHome, pyFiles, environment, batchSize, serializer, conf, gateway, jsc, profiler_cls)\u001b[0m\n\u001b[1;32m    142\u001b[0m                 \" is not allowed as it is a security risk.\")\n\u001b[1;32m    143\u001b[0m \u001b[0;34m\u001b[0m\u001b[0m\n\u001b[0;32m--> 144\u001b[0;31m         \u001b[0mSparkContext\u001b[0m\u001b[0;34m.\u001b[0m\u001b[0m_ensure_initialized\u001b[0m\u001b[0;34m(\u001b[0m\u001b[0mself\u001b[0m\u001b[0;34m,\u001b[0m \u001b[0mgateway\u001b[0m\u001b[0;34m=\u001b[0m\u001b[0mgateway\u001b[0m\u001b[0;34m,\u001b[0m \u001b[0mconf\u001b[0m\u001b[0;34m=\u001b[0m\u001b[0mconf\u001b[0m\u001b[0;34m)\u001b[0m\u001b[0;34m\u001b[0m\u001b[0;34m\u001b[0m\u001b[0m\n\u001b[0m\u001b[1;32m    145\u001b[0m         \u001b[0;32mtry\u001b[0m\u001b[0;34m:\u001b[0m\u001b[0;34m\u001b[0m\u001b[0;34m\u001b[0m\u001b[0m\n\u001b[1;32m    146\u001b[0m             self._do_init(master, appName, sparkHome, pyFiles, environment, batchSize, serializer,\n",
            "\u001b[0;32m/usr/local/lib/python3.7/dist-packages/pyspark/context.py\u001b[0m in \u001b[0;36m_ensure_initialized\u001b[0;34m(cls, instance, gateway, conf)\u001b[0m\n\u001b[1;32m    353\u001b[0m                         \u001b[0;34m\" created by %s at %s:%s \"\u001b[0m\u001b[0;34m\u001b[0m\u001b[0;34m\u001b[0m\u001b[0m\n\u001b[1;32m    354\u001b[0m                         % (currentAppName, currentMaster,\n\u001b[0;32m--> 355\u001b[0;31m                             callsite.function, callsite.file, callsite.linenum))\n\u001b[0m\u001b[1;32m    356\u001b[0m                 \u001b[0;32melse\u001b[0m\u001b[0;34m:\u001b[0m\u001b[0;34m\u001b[0m\u001b[0;34m\u001b[0m\u001b[0m\n\u001b[1;32m    357\u001b[0m                     \u001b[0mSparkContext\u001b[0m\u001b[0;34m.\u001b[0m\u001b[0m_active_spark_context\u001b[0m \u001b[0;34m=\u001b[0m \u001b[0minstance\u001b[0m\u001b[0;34m\u001b[0m\u001b[0;34m\u001b[0m\u001b[0m\n",
            "\u001b[0;31mValueError\u001b[0m: Cannot run multiple SparkContexts at once; existing SparkContext(app=maps_lazy_evaluation, master=local[*]) created by __init__ at <ipython-input-5-0fbe3f522d15>:1 "
          ]
        }
      ]
    },
    {
      "cell_type": "code",
      "source": [
        "log_of_songs =[\n",
        "               'I\\'m sipping tea in your hood',\n",
        "               'bedrock',\n",
        "               'Party',\n",
        "               'God\\'s plan',\n",
        "               'all of me'\n",
        "]"
      ],
      "metadata": {
        "id": "v3TP--r2FsZU"
      },
      "execution_count": 6,
      "outputs": []
    },
    {
      "cell_type": "markdown",
      "source": [
        "Preprocess the data"
      ],
      "metadata": {
        "id": "N7K8bSg2F9VT"
      }
    },
    {
      "cell_type": "code",
      "source": [
        "distributed_songs = sc.parallelize(log_of_songs)"
      ],
      "metadata": {
        "id": "4V34F5ZKF6Mi"
      },
      "execution_count": 7,
      "outputs": []
    },
    {
      "cell_type": "code",
      "source": [
        "#convert all songs to lower case\n",
        "def song_lowercase_convertor(song):\n",
        "  return song.lower()\n"
      ],
      "metadata": {
        "id": "5IkJXt9-F8O1"
      },
      "execution_count": 8,
      "outputs": []
    },
    {
      "cell_type": "code",
      "source": [
        "song_lowercase_convertor('This right heere I my time to partY')"
      ],
      "metadata": {
        "colab": {
          "base_uri": "https://localhost:8080/",
          "height": 35
        },
        "id": "r8oMJae1F8aU",
        "outputId": "d317d594-4246-454e-c516-17afc432a210"
      },
      "execution_count": 9,
      "outputs": [
        {
          "output_type": "execute_result",
          "data": {
            "application/vnd.google.colaboratory.intrinsic+json": {
              "type": "string"
            },
            "text/plain": [
              "'this right heere i my time to party'"
            ]
          },
          "metadata": {},
          "execution_count": 9
        }
      ]
    },
    {
      "cell_type": "code",
      "source": [
        "distributed_songs.map(song_lowercase_convertor)"
      ],
      "metadata": {
        "colab": {
          "base_uri": "https://localhost:8080/"
        },
        "id": "uOlPoRfBGoIS",
        "outputId": "4a2bc79c-0b9a-47b1-f99e-8984719951b8"
      },
      "execution_count": 10,
      "outputs": [
        {
          "output_type": "execute_result",
          "data": {
            "text/plain": [
              "PythonRDD[1] at RDD at PythonRDD.scala:53"
            ]
          },
          "metadata": {},
          "execution_count": 10
        }
      ]
    },
    {
      "cell_type": "code",
      "source": [
        "#despite the preprocessing, spark kept a copy of the original data\n",
        "distributed_songs.collect()"
      ],
      "metadata": {
        "colab": {
          "base_uri": "https://localhost:8080/"
        },
        "id": "J1V3l9LWIK6p",
        "outputId": "1d53cfe1-6cdc-4915-ff28-34736fdccb45"
      },
      "execution_count": 11,
      "outputs": [
        {
          "output_type": "execute_result",
          "data": {
            "text/plain": [
              "[\"I'm sipping tea in your hood\", 'bedrock', 'Party', \"God's plan\", 'all of me']"
            ]
          },
          "metadata": {},
          "execution_count": 11
        }
      ]
    },
    {
      "cell_type": "code",
      "source": [
        "#our target preprocessed data\n",
        "distributed_songs.map(lambda song: song.lower()).collect()"
      ],
      "metadata": {
        "colab": {
          "base_uri": "https://localhost:8080/"
        },
        "id": "9cGhZU_GIcjr",
        "outputId": "f13c7c68-f105-419b-83d7-89e82b62043e"
      },
      "execution_count": 12,
      "outputs": [
        {
          "output_type": "execute_result",
          "data": {
            "text/plain": [
              "[\"i'm sipping tea in your hood\", 'bedrock', 'party', \"god's plan\", 'all of me']"
            ]
          },
          "metadata": {},
          "execution_count": 12
        }
      ]
    },
    {
      "cell_type": "markdown",
      "source": [
        "#Working with different Data Formats"
      ],
      "metadata": {
        "id": "IMB6vCFzNK89"
      }
    },
    {
      "cell_type": "code",
      "source": [
        "from pyspark import SparkConf\n",
        "from pyspark.sql import SparkSession"
      ],
      "metadata": {
        "id": "1kXIKTI9NT_o"
      },
      "execution_count": 13,
      "outputs": []
    },
    {
      "cell_type": "code",
      "source": [
        "spark = SparkSession \\\n",
        "      .builder \\\n",
        "      .appName('Python Spark SQL data formats') \\\n",
        "      .getOrCreate()\n"
      ],
      "metadata": {
        "id": "OOhXQhd9NUHF"
      },
      "execution_count": 14,
      "outputs": []
    },
    {
      "cell_type": "code",
      "source": [
        "#examine session change\n",
        "spark.sparkContext.getConf().getAll()\n"
      ],
      "metadata": {
        "colab": {
          "base_uri": "https://localhost:8080/"
        },
        "id": "Lgbj_ucqNUKz",
        "outputId": "114d4a15-e8fc-4dde-b993-1baf05316029"
      },
      "execution_count": 15,
      "outputs": [
        {
          "output_type": "execute_result",
          "data": {
            "text/plain": [
              "[('spark.app.startTime', '1639649834643'),\n",
              " ('spark.driver.port', '43787'),\n",
              " ('spark.app.name', 'maps_lazy_evaluation'),\n",
              " ('spark.rdd.compress', 'True'),\n",
              " ('spark.serializer.objectStreamReset', '100'),\n",
              " ('spark.master', 'local[*]'),\n",
              " ('spark.submit.pyFiles', ''),\n",
              " ('spark.executor.id', 'driver'),\n",
              " ('spark.submit.deployMode', 'client'),\n",
              " ('spark.driver.host', 'd2d100ef26f0'),\n",
              " ('spark.sql.warehouse.dir', 'file:/content/spark-warehouse'),\n",
              " ('spark.app.id', 'local-1639649836625'),\n",
              " ('spark.ui.showConsoleProgress', 'true')]"
            ]
          },
          "metadata": {},
          "execution_count": 15
        }
      ]
    },
    {
      "cell_type": "code",
      "source": [
        "#info on the context created\n",
        "spark"
      ],
      "metadata": {
        "colab": {
          "base_uri": "https://localhost:8080/",
          "height": 219
        },
        "id": "yc1r6b_2PNFr",
        "outputId": "be90b192-2dbc-4061-b4ad-3b6ff736c32b"
      },
      "execution_count": 16,
      "outputs": [
        {
          "output_type": "execute_result",
          "data": {
            "text/html": [
              "\n",
              "            <div>\n",
              "                <p><b>SparkSession - in-memory</b></p>\n",
              "                \n",
              "        <div>\n",
              "            <p><b>SparkContext</b></p>\n",
              "\n",
              "            <p><a href=\"http://d2d100ef26f0:4040\">Spark UI</a></p>\n",
              "\n",
              "            <dl>\n",
              "              <dt>Version</dt>\n",
              "                <dd><code>v3.2.0</code></dd>\n",
              "              <dt>Master</dt>\n",
              "                <dd><code>local[*]</code></dd>\n",
              "              <dt>AppName</dt>\n",
              "                <dd><code>maps_lazy_evaluation</code></dd>\n",
              "            </dl>\n",
              "        </div>\n",
              "        \n",
              "            </div>\n",
              "        "
            ],
            "text/plain": [
              "<pyspark.sql.session.SparkSession at 0x7f6f56839b50>"
            ]
          },
          "metadata": {},
          "execution_count": 16
        }
      ]
    },
    {
      "cell_type": "markdown",
      "source": [
        "json data"
      ],
      "metadata": {
        "id": "Ka2VhDfHPcn3"
      }
    },
    {
      "cell_type": "code",
      "source": [
        "json_path = '/content/drive/MyDrive/practice datasets/sparkify_log_small.json'\n",
        "user_log = spark.read.json(json_path)"
      ],
      "metadata": {
        "id": "89HUJiuGPaSk"
      },
      "execution_count": 17,
      "outputs": []
    },
    {
      "cell_type": "code",
      "source": [
        "user_log.printSchema()"
      ],
      "metadata": {
        "colab": {
          "base_uri": "https://localhost:8080/"
        },
        "id": "zA3cab02PQCl",
        "outputId": "20705763-4653-433d-df22-64b91cd3d820"
      },
      "execution_count": 19,
      "outputs": [
        {
          "output_type": "stream",
          "name": "stdout",
          "text": [
            "root\n",
            " |-- artist: string (nullable = true)\n",
            " |-- auth: string (nullable = true)\n",
            " |-- firstName: string (nullable = true)\n",
            " |-- gender: string (nullable = true)\n",
            " |-- itemInSession: long (nullable = true)\n",
            " |-- lastName: string (nullable = true)\n",
            " |-- length: double (nullable = true)\n",
            " |-- level: string (nullable = true)\n",
            " |-- location: string (nullable = true)\n",
            " |-- method: string (nullable = true)\n",
            " |-- page: string (nullable = true)\n",
            " |-- registration: long (nullable = true)\n",
            " |-- sessionId: long (nullable = true)\n",
            " |-- song: string (nullable = true)\n",
            " |-- status: long (nullable = true)\n",
            " |-- ts: long (nullable = true)\n",
            " |-- userAgent: string (nullable = true)\n",
            " |-- userId: string (nullable = true)\n",
            "\n"
          ]
        }
      ]
    },
    {
      "cell_type": "code",
      "source": [
        "user_log.describe()"
      ],
      "metadata": {
        "colab": {
          "base_uri": "https://localhost:8080/"
        },
        "id": "QmlO3ba4PQFR",
        "outputId": "778b6e26-0d5c-4d29-f149-6aa73d556d56"
      },
      "execution_count": 20,
      "outputs": [
        {
          "output_type": "execute_result",
          "data": {
            "text/plain": [
              "DataFrame[summary: string, artist: string, auth: string, firstName: string, gender: string, itemInSession: string, lastName: string, length: string, level: string, location: string, method: string, page: string, registration: string, sessionId: string, song: string, status: string, ts: string, userAgent: string, userId: string]"
            ]
          },
          "metadata": {},
          "execution_count": 20
        }
      ]
    },
    {
      "cell_type": "code",
      "source": [
        "user_log.show(n=1)"
      ],
      "metadata": {
        "colab": {
          "base_uri": "https://localhost:8080/"
        },
        "id": "K0k7PZNhPQIM",
        "outputId": "aa53ea09-badb-479b-a894-71527e04de07"
      },
      "execution_count": 21,
      "outputs": [
        {
          "output_type": "stream",
          "name": "stdout",
          "text": [
            "+-------------+---------+---------+------+-------------+--------+---------+-----+--------------------+------+--------+-------------+---------+--------------------+------+-------------+--------------------+------+\n",
            "|       artist|     auth|firstName|gender|itemInSession|lastName|   length|level|            location|method|    page| registration|sessionId|                song|status|           ts|           userAgent|userId|\n",
            "+-------------+---------+---------+------+-------------+--------+---------+-----+--------------------+------+--------+-------------+---------+--------------------+------+-------------+--------------------+------+\n",
            "|Showaddywaddy|Logged In|  Kenneth|     M|          112|Matthews|232.93342| paid|Charlotte-Concord...|   PUT|NextSong|1509380319284|     5132|Christmas Tears W...|   200|1513720872284|\"Mozilla/5.0 (Win...|  1046|\n",
            "+-------------+---------+---------+------+-------------+--------+---------+-----+--------------------+------+--------+-------------+---------+--------------------+------+-------------+--------------------+------+\n",
            "only showing top 1 row\n",
            "\n"
          ]
        }
      ]
    },
    {
      "cell_type": "code",
      "source": [
        "#show 7 rows in a structured format\n",
        "user_log.take(7)"
      ],
      "metadata": {
        "colab": {
          "base_uri": "https://localhost:8080/"
        },
        "id": "JEfaeZ5OVjLH",
        "outputId": "36fe4c04-41ff-4f21-caa9-d995158b00f1"
      },
      "execution_count": 22,
      "outputs": [
        {
          "output_type": "execute_result",
          "data": {
            "text/plain": [
              "[Row(artist='Showaddywaddy', auth='Logged In', firstName='Kenneth', gender='M', itemInSession=112, lastName='Matthews', length=232.93342, level='paid', location='Charlotte-Concord-Gastonia, NC-SC', method='PUT', page='NextSong', registration=1509380319284, sessionId=5132, song='Christmas Tears Will Fall', status=200, ts=1513720872284, userAgent='\"Mozilla/5.0 (Windows NT 6.1) AppleWebKit/537.36 (KHTML, like Gecko) Chrome/36.0.1985.125 Safari/537.36\"', userId='1046'),\n",
              " Row(artist='Lily Allen', auth='Logged In', firstName='Elizabeth', gender='F', itemInSession=7, lastName='Chase', length=195.23873, level='free', location='Shreveport-Bossier City, LA', method='PUT', page='NextSong', registration=1512718541284, sessionId=5027, song='Cheryl Tweedy', status=200, ts=1513720878284, userAgent='\"Mozilla/5.0 (Windows NT 6.1) AppleWebKit/537.36 (KHTML, like Gecko) Chrome/36.0.1985.143 Safari/537.36\"', userId='1000'),\n",
              " Row(artist='Cobra Starship Featuring Leighton Meester', auth='Logged In', firstName='Vera', gender='F', itemInSession=6, lastName='Blackwell', length=196.20526, level='paid', location='Racine, WI', method='PUT', page='NextSong', registration=1499855749284, sessionId=5516, song='Good Girls Go Bad (Feat.Leighton Meester) (Album Version)', status=200, ts=1513720881284, userAgent='\"Mozilla/5.0 (Macintosh; Intel Mac OS X 10_9_4) AppleWebKit/537.78.2 (KHTML, like Gecko) Version/7.0.6 Safari/537.78.2\"', userId='2219'),\n",
              " Row(artist='Alex Smoke', auth='Logged In', firstName='Sophee', gender='F', itemInSession=8, lastName='Barker', length=405.99465, level='paid', location='San Luis Obispo-Paso Robles-Arroyo Grande, CA', method='PUT', page='NextSong', registration=1513009647284, sessionId=2372, song=\"Don't See The Point\", status=200, ts=1513720905284, userAgent='\"Mozilla/5.0 (Windows NT 6.1; WOW64) AppleWebKit/537.36 (KHTML, like Gecko) Chrome/36.0.1985.143 Safari/537.36\"', userId='2373'),\n",
              " Row(artist=None, auth='Logged In', firstName='Jordyn', gender='F', itemInSession=0, lastName='Jones', length=None, level='free', location='Syracuse, NY', method='GET', page='Home', registration=1513648531284, sessionId=1746, song=None, status=200, ts=1513720913284, userAgent='\"Mozilla/5.0 (Macintosh; Intel Mac OS X 10_9_4) AppleWebKit/537.36 (KHTML, like Gecko) Chrome/37.0.2062.94 Safari/537.36\"', userId='1747'),\n",
              " Row(artist=None, auth='Logged In', firstName='Jordyn', gender='F', itemInSession=1, lastName='Jones', length=None, level='free', location='Syracuse, NY', method='GET', page='Settings', registration=1513648531284, sessionId=1746, song=None, status=200, ts=1513720932284, userAgent='\"Mozilla/5.0 (Macintosh; Intel Mac OS X 10_9_4) AppleWebKit/537.36 (KHTML, like Gecko) Chrome/37.0.2062.94 Safari/537.36\"', userId='1747'),\n",
              " Row(artist='Redman', auth='Logged In', firstName='Paige', gender='F', itemInSession=0, lastName='Hunter', length=154.53995, level='free', location='Brownwood, TX', method='PUT', page='NextSong', registration=1498414068284, sessionId=4406, song='Smoke Buddah', status=200, ts=1513720955284, userAgent='\"Mozilla/5.0 (Macintosh; Intel Mac OS X 10_9_4) AppleWebKit/537.36 (KHTML, like Gecko) Chrome/37.0.2062.94 Safari/537.36\"', userId='1162')]"
            ]
          },
          "metadata": {},
          "execution_count": 22
        }
      ]
    },
    {
      "cell_type": "markdown",
      "source": [
        "CSV file"
      ],
      "metadata": {
        "id": "OZwRdNp5V1zr"
      }
    },
    {
      "cell_type": "code",
      "source": [
        "out_path = '/content/drive/MyDrive/practice datasets/purchase data.csv'"
      ],
      "metadata": {
        "id": "ROR-yL0QVyA1"
      },
      "execution_count": 23,
      "outputs": []
    },
    {
      "cell_type": "code",
      "source": [
        "user_log_2 = spark.read.csv(out_path, header=True)"
      ],
      "metadata": {
        "id": "LCMFkHB6XLUu"
      },
      "execution_count": 24,
      "outputs": []
    },
    {
      "cell_type": "code",
      "source": [
        "user_log_2.printSchema()"
      ],
      "metadata": {
        "colab": {
          "base_uri": "https://localhost:8080/"
        },
        "id": "ALj7XvAfXcvD",
        "outputId": "57900e83-cf8d-44d3-acd5-b41f9d4221ee"
      },
      "execution_count": 51,
      "outputs": [
        {
          "output_type": "stream",
          "name": "stdout",
          "text": [
            "root\n",
            " |-- ID: string (nullable = true)\n",
            " |-- Day: string (nullable = true)\n",
            " |-- Incidence: string (nullable = true)\n",
            " |-- Brand: string (nullable = true)\n",
            " |-- Quantity: string (nullable = true)\n",
            " |-- Last_Inc_Brand: string (nullable = true)\n",
            " |-- Last_Inc_Quantity: string (nullable = true)\n",
            " |-- Price_1: string (nullable = true)\n",
            " |-- Price_2: string (nullable = true)\n",
            " |-- Price_3: string (nullable = true)\n",
            " |-- Price_4: string (nullable = true)\n",
            " |-- Price_5: string (nullable = true)\n",
            " |-- Promotion_1: string (nullable = true)\n",
            " |-- Promotion_2: string (nullable = true)\n",
            " |-- Promotion_3: string (nullable = true)\n",
            " |-- Promotion_4: string (nullable = true)\n",
            " |-- Promotion_5: string (nullable = true)\n",
            " |-- Sex: string (nullable = true)\n",
            " |-- Marital status: string (nullable = true)\n",
            " |-- Age: string (nullable = true)\n",
            " |-- Education: string (nullable = true)\n",
            " |-- Income: string (nullable = true)\n",
            " |-- Occupation: string (nullable = true)\n",
            " |-- Settlement size: string (nullable = true)\n",
            "\n"
          ]
        }
      ]
    },
    {
      "cell_type": "code",
      "source": [
        "user_log_2.take(5)"
      ],
      "metadata": {
        "colab": {
          "base_uri": "https://localhost:8080/"
        },
        "id": "pW_j6rwyXi8f",
        "outputId": "141a15ba-0f7c-4432-b43a-bba9def68232"
      },
      "execution_count": 52,
      "outputs": [
        {
          "output_type": "execute_result",
          "data": {
            "text/plain": [
              "[Row(ID='200000001', Day='1', Incidence='0', Brand='0', Quantity='0', Last_Inc_Brand='0', Last_Inc_Quantity='0', Price_1='1.59', Price_2='1.87', Price_3='2.01', Price_4='2.09', Price_5='2.66', Promotion_1='0', Promotion_2='1', Promotion_3='0', Promotion_4='0', Promotion_5='0', Sex='0', Marital status='0', Age='47', Education='1', Income='110866', Occupation='1', Settlement size='0'),\n",
              " Row(ID='200000001', Day='11', Incidence='0', Brand='0', Quantity='0', Last_Inc_Brand='0', Last_Inc_Quantity='0', Price_1='1.51', Price_2='1.89', Price_3='1.99', Price_4='2.09', Price_5='2.66', Promotion_1='0', Promotion_2='0', Promotion_3='0', Promotion_4='0', Promotion_5='0', Sex='0', Marital status='0', Age='47', Education='1', Income='110866', Occupation='1', Settlement size='0'),\n",
              " Row(ID='200000001', Day='12', Incidence='0', Brand='0', Quantity='0', Last_Inc_Brand='0', Last_Inc_Quantity='0', Price_1='1.51', Price_2='1.89', Price_3='1.99', Price_4='2.09', Price_5='2.66', Promotion_1='0', Promotion_2='0', Promotion_3='0', Promotion_4='0', Promotion_5='0', Sex='0', Marital status='0', Age='47', Education='1', Income='110866', Occupation='1', Settlement size='0'),\n",
              " Row(ID='200000001', Day='16', Incidence='0', Brand='0', Quantity='0', Last_Inc_Brand='0', Last_Inc_Quantity='0', Price_1='1.52', Price_2='1.89', Price_3='1.98', Price_4='2.09', Price_5='2.66', Promotion_1='0', Promotion_2='0', Promotion_3='0', Promotion_4='0', Promotion_5='0', Sex='0', Marital status='0', Age='47', Education='1', Income='110866', Occupation='1', Settlement size='0'),\n",
              " Row(ID='200000001', Day='18', Incidence='0', Brand='0', Quantity='0', Last_Inc_Brand='0', Last_Inc_Quantity='0', Price_1='1.52', Price_2='1.89', Price_3='1.99', Price_4='2.09', Price_5='2.66', Promotion_1='0', Promotion_2='0', Promotion_3='0', Promotion_4='0', Promotion_5='0', Sex='0', Marital status='0', Age='47', Education='1', Income='110866', Occupation='1', Settlement size='0')]"
            ]
          },
          "metadata": {},
          "execution_count": 52
        }
      ]
    },
    {
      "cell_type": "code",
      "source": [
        "user_log_2.select('Price_1').show()"
      ],
      "metadata": {
        "colab": {
          "base_uri": "https://localhost:8080/"
        },
        "id": "FAjzjlUdXrzL",
        "outputId": "b2b13f45-02d3-4847-abba-a1eddc826858"
      },
      "execution_count": 54,
      "outputs": [
        {
          "output_type": "stream",
          "name": "stdout",
          "text": [
            "+-------+\n",
            "|Price_1|\n",
            "+-------+\n",
            "|   1.59|\n",
            "|   1.51|\n",
            "|   1.51|\n",
            "|   1.52|\n",
            "|   1.52|\n",
            "|    1.5|\n",
            "|    1.5|\n",
            "|    1.5|\n",
            "|   1.35|\n",
            "|   1.35|\n",
            "|   1.35|\n",
            "|   1.39|\n",
            "|   1.39|\n",
            "|   1.36|\n",
            "|   1.47|\n",
            "|   1.47|\n",
            "|   1.39|\n",
            "|   1.39|\n",
            "|   1.47|\n",
            "|   1.47|\n",
            "+-------+\n",
            "only showing top 20 rows\n",
            "\n"
          ]
        }
      ]
    },
    {
      "cell_type": "markdown",
      "source": [
        "#Data Wrangling"
      ],
      "metadata": {
        "id": "u0_GbXEWYaPH"
      }
    },
    {
      "cell_type": "code",
      "source": [
        "from pyspark.sql import SparkSession\n",
        "from pyspark.sql.functions import udf\n",
        "from pyspark.sql.types import StringType\n",
        "from pyspark.sql.types import IntegerType\n",
        "from pyspark.sql.functions import desc\n",
        "from pyspark.sql.functions import asc\n",
        "from pyspark.sql.functions import sum as Fsum\n",
        "\n",
        "import datetime\n",
        "\n",
        "import pandas as pd\n",
        "import numpy as np\n",
        "import matplotlib.pyplot as plt\n",
        "%matplotlib inline"
      ],
      "metadata": {
        "id": "HvH4k5ybYdJX"
      },
      "execution_count": 25,
      "outputs": []
    },
    {
      "cell_type": "code",
      "source": [
        "spark = SparkSession \\\n",
        "    .builder \\\n",
        "    .appName(\"Pyspark Data Wrangler\") \\\n",
        "    .getOrCreate()"
      ],
      "metadata": {
        "id": "1ylOIuTiZnWH"
      },
      "execution_count": 26,
      "outputs": []
    },
    {
      "cell_type": "code",
      "source": [
        "# show the data types\n",
        "user_log.printSchema()"
      ],
      "metadata": {
        "colab": {
          "base_uri": "https://localhost:8080/"
        },
        "id": "YIz_NEP5aSrz",
        "outputId": "b6426165-d4ce-48fd-a1ae-8f6f99eb0ea7"
      },
      "execution_count": 27,
      "outputs": [
        {
          "output_type": "stream",
          "name": "stdout",
          "text": [
            "root\n",
            " |-- artist: string (nullable = true)\n",
            " |-- auth: string (nullable = true)\n",
            " |-- firstName: string (nullable = true)\n",
            " |-- gender: string (nullable = true)\n",
            " |-- itemInSession: long (nullable = true)\n",
            " |-- lastName: string (nullable = true)\n",
            " |-- length: double (nullable = true)\n",
            " |-- level: string (nullable = true)\n",
            " |-- location: string (nullable = true)\n",
            " |-- method: string (nullable = true)\n",
            " |-- page: string (nullable = true)\n",
            " |-- registration: long (nullable = true)\n",
            " |-- sessionId: long (nullable = true)\n",
            " |-- song: string (nullable = true)\n",
            " |-- status: long (nullable = true)\n",
            " |-- ts: long (nullable = true)\n",
            " |-- userAgent: string (nullable = true)\n",
            " |-- userId: string (nullable = true)\n",
            "\n"
          ]
        }
      ]
    },
    {
      "cell_type": "code",
      "source": [
        "#print te first 3 rows\n",
        "user_log.take(5)"
      ],
      "metadata": {
        "colab": {
          "base_uri": "https://localhost:8080/"
        },
        "id": "YxE5wXmKaU52",
        "outputId": "a9b70105-2df4-4911-dc49-ea1af0e5cc6d"
      },
      "execution_count": 28,
      "outputs": [
        {
          "output_type": "execute_result",
          "data": {
            "text/plain": [
              "[Row(artist='Showaddywaddy', auth='Logged In', firstName='Kenneth', gender='M', itemInSession=112, lastName='Matthews', length=232.93342, level='paid', location='Charlotte-Concord-Gastonia, NC-SC', method='PUT', page='NextSong', registration=1509380319284, sessionId=5132, song='Christmas Tears Will Fall', status=200, ts=1513720872284, userAgent='\"Mozilla/5.0 (Windows NT 6.1) AppleWebKit/537.36 (KHTML, like Gecko) Chrome/36.0.1985.125 Safari/537.36\"', userId='1046'),\n",
              " Row(artist='Lily Allen', auth='Logged In', firstName='Elizabeth', gender='F', itemInSession=7, lastName='Chase', length=195.23873, level='free', location='Shreveport-Bossier City, LA', method='PUT', page='NextSong', registration=1512718541284, sessionId=5027, song='Cheryl Tweedy', status=200, ts=1513720878284, userAgent='\"Mozilla/5.0 (Windows NT 6.1) AppleWebKit/537.36 (KHTML, like Gecko) Chrome/36.0.1985.143 Safari/537.36\"', userId='1000'),\n",
              " Row(artist='Cobra Starship Featuring Leighton Meester', auth='Logged In', firstName='Vera', gender='F', itemInSession=6, lastName='Blackwell', length=196.20526, level='paid', location='Racine, WI', method='PUT', page='NextSong', registration=1499855749284, sessionId=5516, song='Good Girls Go Bad (Feat.Leighton Meester) (Album Version)', status=200, ts=1513720881284, userAgent='\"Mozilla/5.0 (Macintosh; Intel Mac OS X 10_9_4) AppleWebKit/537.78.2 (KHTML, like Gecko) Version/7.0.6 Safari/537.78.2\"', userId='2219'),\n",
              " Row(artist='Alex Smoke', auth='Logged In', firstName='Sophee', gender='F', itemInSession=8, lastName='Barker', length=405.99465, level='paid', location='San Luis Obispo-Paso Robles-Arroyo Grande, CA', method='PUT', page='NextSong', registration=1513009647284, sessionId=2372, song=\"Don't See The Point\", status=200, ts=1513720905284, userAgent='\"Mozilla/5.0 (Windows NT 6.1; WOW64) AppleWebKit/537.36 (KHTML, like Gecko) Chrome/36.0.1985.143 Safari/537.36\"', userId='2373'),\n",
              " Row(artist=None, auth='Logged In', firstName='Jordyn', gender='F', itemInSession=0, lastName='Jones', length=None, level='free', location='Syracuse, NY', method='GET', page='Home', registration=1513648531284, sessionId=1746, song=None, status=200, ts=1513720913284, userAgent='\"Mozilla/5.0 (Macintosh; Intel Mac OS X 10_9_4) AppleWebKit/537.36 (KHTML, like Gecko) Chrome/37.0.2062.94 Safari/537.36\"', userId='1747')]"
            ]
          },
          "metadata": {},
          "execution_count": 28
        }
      ]
    },
    {
      "cell_type": "code",
      "source": [
        "#10,000 rows\n",
        "user_log.count()"
      ],
      "metadata": {
        "colab": {
          "base_uri": "https://localhost:8080/"
        },
        "id": "Et3oaeLjagcI",
        "outputId": "28515c4f-a38d-4f17-b0c9-20252f871a5e"
      },
      "execution_count": 29,
      "outputs": [
        {
          "output_type": "execute_result",
          "data": {
            "text/plain": [
              "10000"
            ]
          },
          "metadata": {},
          "execution_count": 29
        }
      ]
    },
    {
      "cell_type": "code",
      "source": [
        "#print artist names\n",
        "user_log.select('artist').show()"
      ],
      "metadata": {
        "colab": {
          "base_uri": "https://localhost:8080/"
        },
        "id": "vVs4ib4JbCu3",
        "outputId": "0090a35c-3de8-45d9-e57d-068674a27908"
      },
      "execution_count": 30,
      "outputs": [
        {
          "output_type": "stream",
          "name": "stdout",
          "text": [
            "+--------------------+\n",
            "|              artist|\n",
            "+--------------------+\n",
            "|       Showaddywaddy|\n",
            "|          Lily Allen|\n",
            "|Cobra Starship Fe...|\n",
            "|          Alex Smoke|\n",
            "|                null|\n",
            "|                null|\n",
            "|              Redman|\n",
            "|     Ulrich Schnauss|\n",
            "|                null|\n",
            "|                null|\n",
            "|               Jay-Z|\n",
            "|         Evanescence|\n",
            "|     Scissor Sisters|\n",
            "|        3 Doors Down|\n",
            "|       George Younce|\n",
            "|              Aly-Us|\n",
            "|                null|\n",
            "|            BjÃÂ¶rk|\n",
            "|      David Bromberg|\n",
            "|          Nickelback|\n",
            "+--------------------+\n",
            "only showing top 20 rows\n",
            "\n"
          ]
        }
      ]
    },
    {
      "cell_type": "code",
      "source": [
        "#print artist names without duplicates\n",
        "user_log.select(\"artist\").dropDuplicates().sort(\"artist\").show()\n"
      ],
      "metadata": {
        "colab": {
          "base_uri": "https://localhost:8080/"
        },
        "id": "Wyv3TtkOagrs",
        "outputId": "f2970897-a339-419d-d9c7-b2ddfb557357"
      },
      "execution_count": 31,
      "outputs": [
        {
          "output_type": "stream",
          "name": "stdout",
          "text": [
            "+--------------------+\n",
            "|              artist|\n",
            "+--------------------+\n",
            "|                null|\n",
            "|                 !!!|\n",
            "|      10_000 Maniacs|\n",
            "|           12 Stones|\n",
            "|               1990s|\n",
            "|      22 Pistepirkko|\n",
            "|                2Mex|\n",
            "|        3 Doors Down|\n",
            "|                 311|\n",
            "|             33Miles|\n",
            "|       36 Crazyfists|\n",
            "|                 3LW|\n",
            "|               3OH!3|\n",
            "|            3rd Bass|\n",
            "|           3rd Force|\n",
            "|             50 Cent|\n",
            "|50 Cent / Lloyd B...|\n",
            "|   59 Times the Pain|\n",
            "|            9 Lazy 9|\n",
            "|                 911|\n",
            "+--------------------+\n",
            "only showing top 20 rows\n",
            "\n"
          ]
        }
      ]
    },
    {
      "cell_type": "code",
      "source": [
        "user_log.printSchema()"
      ],
      "metadata": {
        "colab": {
          "base_uri": "https://localhost:8080/"
        },
        "id": "Hy_vknSj4-tm",
        "outputId": "3d6b4597-9df7-4e90-e26a-ed97d2172e3c"
      },
      "execution_count": 87,
      "outputs": [
        {
          "output_type": "stream",
          "name": "stdout",
          "text": [
            "root\n",
            " |-- artist: string (nullable = true)\n",
            " |-- auth: string (nullable = true)\n",
            " |-- firstName: string (nullable = true)\n",
            " |-- gender: string (nullable = true)\n",
            " |-- itemInSession: long (nullable = true)\n",
            " |-- lastName: string (nullable = true)\n",
            " |-- length: double (nullable = true)\n",
            " |-- level: string (nullable = true)\n",
            " |-- location: string (nullable = true)\n",
            " |-- method: string (nullable = true)\n",
            " |-- page: string (nullable = true)\n",
            " |-- registration: long (nullable = true)\n",
            " |-- sessionId: long (nullable = true)\n",
            " |-- song: string (nullable = true)\n",
            " |-- status: long (nullable = true)\n",
            " |-- ts: long (nullable = true)\n",
            " |-- userAgent: string (nullable = true)\n",
            " |-- userId: string (nullable = true)\n",
            " |-- hour: string (nullable = true)\n",
            "\n"
          ]
        }
      ]
    },
    {
      "cell_type": "code",
      "source": [
        ""
      ],
      "metadata": {
        "id": "C0LkiQ5M4TMF"
      },
      "execution_count": null,
      "outputs": []
    },
    {
      "cell_type": "markdown",
      "source": [
        "counting stats by the hour"
      ],
      "metadata": {
        "id": "msDjnaN3bUfC"
      }
    },
    {
      "cell_type": "code",
      "source": [
        "get_hour = udf(lambda x: datetime.datetime.fromtimestamp(x/ 10000.0).hour)\n"
      ],
      "metadata": {
        "id": "JPDtl4sXbQkj"
      },
      "execution_count": 32,
      "outputs": []
    },
    {
      "cell_type": "code",
      "source": [
        "user_log = user_log.withColumn(\"hour\", get_hour(user_log.ts))\n"
      ],
      "metadata": {
        "id": "6KlAOii7bkpf"
      },
      "execution_count": 33,
      "outputs": []
    },
    {
      "cell_type": "code",
      "source": [
        "user_log.take(5)"
      ],
      "metadata": {
        "colab": {
          "base_uri": "https://localhost:8080/"
        },
        "id": "tSqaMNNJbwDs",
        "outputId": "16e54c6c-851c-4105-f372-b5125585b3ef"
      },
      "execution_count": 34,
      "outputs": [
        {
          "output_type": "execute_result",
          "data": {
            "text/plain": [
              "[Row(artist='Showaddywaddy', auth='Logged In', firstName='Kenneth', gender='M', itemInSession=112, lastName='Matthews', length=232.93342, level='paid', location='Charlotte-Concord-Gastonia, NC-SC', method='PUT', page='NextSong', registration=1509380319284, sessionId=5132, song='Christmas Tears Will Fall', status=200, ts=1513720872284, userAgent='\"Mozilla/5.0 (Windows NT 6.1) AppleWebKit/537.36 (KHTML, like Gecko) Chrome/36.0.1985.125 Safari/537.36\"', userId='1046', hour='23'),\n",
              " Row(artist='Lily Allen', auth='Logged In', firstName='Elizabeth', gender='F', itemInSession=7, lastName='Chase', length=195.23873, level='free', location='Shreveport-Bossier City, LA', method='PUT', page='NextSong', registration=1512718541284, sessionId=5027, song='Cheryl Tweedy', status=200, ts=1513720878284, userAgent='\"Mozilla/5.0 (Windows NT 6.1) AppleWebKit/537.36 (KHTML, like Gecko) Chrome/36.0.1985.143 Safari/537.36\"', userId='1000', hour='23'),\n",
              " Row(artist='Cobra Starship Featuring Leighton Meester', auth='Logged In', firstName='Vera', gender='F', itemInSession=6, lastName='Blackwell', length=196.20526, level='paid', location='Racine, WI', method='PUT', page='NextSong', registration=1499855749284, sessionId=5516, song='Good Girls Go Bad (Feat.Leighton Meester) (Album Version)', status=200, ts=1513720881284, userAgent='\"Mozilla/5.0 (Macintosh; Intel Mac OS X 10_9_4) AppleWebKit/537.78.2 (KHTML, like Gecko) Version/7.0.6 Safari/537.78.2\"', userId='2219', hour='23'),\n",
              " Row(artist='Alex Smoke', auth='Logged In', firstName='Sophee', gender='F', itemInSession=8, lastName='Barker', length=405.99465, level='paid', location='San Luis Obispo-Paso Robles-Arroyo Grande, CA', method='PUT', page='NextSong', registration=1513009647284, sessionId=2372, song=\"Don't See The Point\", status=200, ts=1513720905284, userAgent='\"Mozilla/5.0 (Windows NT 6.1; WOW64) AppleWebKit/537.36 (KHTML, like Gecko) Chrome/36.0.1985.143 Safari/537.36\"', userId='2373', hour='23'),\n",
              " Row(artist=None, auth='Logged In', firstName='Jordyn', gender='F', itemInSession=0, lastName='Jones', length=None, level='free', location='Syracuse, NY', method='GET', page='Home', registration=1513648531284, sessionId=1746, song=None, status=200, ts=1513720913284, userAgent='\"Mozilla/5.0 (Macintosh; Intel Mac OS X 10_9_4) AppleWebKit/537.36 (KHTML, like Gecko) Chrome/37.0.2062.94 Safari/537.36\"', userId='1747', hour='23')]"
            ]
          },
          "metadata": {},
          "execution_count": 34
        }
      ]
    },
    {
      "cell_type": "code",
      "source": [
        "user_log.head(7)"
      ],
      "metadata": {
        "colab": {
          "base_uri": "https://localhost:8080/"
        },
        "id": "2KoG4Pyrb4ur",
        "outputId": "31e5e82b-2858-402b-8ea9-07bd097e43ba"
      },
      "execution_count": 35,
      "outputs": [
        {
          "output_type": "execute_result",
          "data": {
            "text/plain": [
              "[Row(artist='Showaddywaddy', auth='Logged In', firstName='Kenneth', gender='M', itemInSession=112, lastName='Matthews', length=232.93342, level='paid', location='Charlotte-Concord-Gastonia, NC-SC', method='PUT', page='NextSong', registration=1509380319284, sessionId=5132, song='Christmas Tears Will Fall', status=200, ts=1513720872284, userAgent='\"Mozilla/5.0 (Windows NT 6.1) AppleWebKit/537.36 (KHTML, like Gecko) Chrome/36.0.1985.125 Safari/537.36\"', userId='1046', hour='23'),\n",
              " Row(artist='Lily Allen', auth='Logged In', firstName='Elizabeth', gender='F', itemInSession=7, lastName='Chase', length=195.23873, level='free', location='Shreveport-Bossier City, LA', method='PUT', page='NextSong', registration=1512718541284, sessionId=5027, song='Cheryl Tweedy', status=200, ts=1513720878284, userAgent='\"Mozilla/5.0 (Windows NT 6.1) AppleWebKit/537.36 (KHTML, like Gecko) Chrome/36.0.1985.143 Safari/537.36\"', userId='1000', hour='23'),\n",
              " Row(artist='Cobra Starship Featuring Leighton Meester', auth='Logged In', firstName='Vera', gender='F', itemInSession=6, lastName='Blackwell', length=196.20526, level='paid', location='Racine, WI', method='PUT', page='NextSong', registration=1499855749284, sessionId=5516, song='Good Girls Go Bad (Feat.Leighton Meester) (Album Version)', status=200, ts=1513720881284, userAgent='\"Mozilla/5.0 (Macintosh; Intel Mac OS X 10_9_4) AppleWebKit/537.78.2 (KHTML, like Gecko) Version/7.0.6 Safari/537.78.2\"', userId='2219', hour='23'),\n",
              " Row(artist='Alex Smoke', auth='Logged In', firstName='Sophee', gender='F', itemInSession=8, lastName='Barker', length=405.99465, level='paid', location='San Luis Obispo-Paso Robles-Arroyo Grande, CA', method='PUT', page='NextSong', registration=1513009647284, sessionId=2372, song=\"Don't See The Point\", status=200, ts=1513720905284, userAgent='\"Mozilla/5.0 (Windows NT 6.1; WOW64) AppleWebKit/537.36 (KHTML, like Gecko) Chrome/36.0.1985.143 Safari/537.36\"', userId='2373', hour='23'),\n",
              " Row(artist=None, auth='Logged In', firstName='Jordyn', gender='F', itemInSession=0, lastName='Jones', length=None, level='free', location='Syracuse, NY', method='GET', page='Home', registration=1513648531284, sessionId=1746, song=None, status=200, ts=1513720913284, userAgent='\"Mozilla/5.0 (Macintosh; Intel Mac OS X 10_9_4) AppleWebKit/537.36 (KHTML, like Gecko) Chrome/37.0.2062.94 Safari/537.36\"', userId='1747', hour='23'),\n",
              " Row(artist=None, auth='Logged In', firstName='Jordyn', gender='F', itemInSession=1, lastName='Jones', length=None, level='free', location='Syracuse, NY', method='GET', page='Settings', registration=1513648531284, sessionId=1746, song=None, status=200, ts=1513720932284, userAgent='\"Mozilla/5.0 (Macintosh; Intel Mac OS X 10_9_4) AppleWebKit/537.36 (KHTML, like Gecko) Chrome/37.0.2062.94 Safari/537.36\"', userId='1747', hour='23'),\n",
              " Row(artist='Redman', auth='Logged In', firstName='Paige', gender='F', itemInSession=0, lastName='Hunter', length=154.53995, level='free', location='Brownwood, TX', method='PUT', page='NextSong', registration=1498414068284, sessionId=4406, song='Smoke Buddah', status=200, ts=1513720955284, userAgent='\"Mozilla/5.0 (Macintosh; Intel Mac OS X 10_9_4) AppleWebKit/537.36 (KHTML, like Gecko) Chrome/37.0.2062.94 Safari/537.36\"', userId='1162', hour='23')]"
            ]
          },
          "metadata": {},
          "execution_count": 35
        }
      ]
    },
    {
      "cell_type": "code",
      "source": [
        "#songs in a hour\n",
        "songs_in_hour = user_log.filter(user_log.page == \"NextSong\").groupby(user_log.hour).count().orderBy(user_log.hour.cast(\"float\"))\n",
        "\n"
      ],
      "metadata": {
        "id": "IgDke7eBcA0t"
      },
      "execution_count": 36,
      "outputs": []
    },
    {
      "cell_type": "code",
      "source": [
        "#number of songs made in each hour\n",
        "songs_in_hour.show()"
      ],
      "metadata": {
        "colab": {
          "base_uri": "https://localhost:8080/"
        },
        "id": "DyAaKuzbaPt_",
        "outputId": "9f63131d-aa68-4fd4-ec27-60964327e2f4"
      },
      "execution_count": 37,
      "outputs": [
        {
          "output_type": "stream",
          "name": "stdout",
          "text": [
            "+----+-----+\n",
            "|hour|count|\n",
            "+----+-----+\n",
            "|   0| 1709|\n",
            "|   1| 3546|\n",
            "|   2| 2094|\n",
            "|   3|  646|\n",
            "|  23|  352|\n",
            "+----+-----+\n",
            "\n"
          ]
        }
      ]
    },
    {
      "cell_type": "code",
      "source": [
        "songs_in_hour_pd = songs_in_hour.toPandas()\n",
        "songs_in_hour_pd = pd.to_numeric(songs_in_hour_pd.hour)"
      ],
      "metadata": {
        "id": "gqtG9-k-w51k"
      },
      "execution_count": 38,
      "outputs": []
    },
    {
      "cell_type": "code",
      "source": [
        "print(songs_in_hour_pd)"
      ],
      "metadata": {
        "colab": {
          "base_uri": "https://localhost:8080/"
        },
        "id": "QalaLvLVx9ZX",
        "outputId": "49c0b9e8-e43f-4c86-e4ac-7ff8acb72396"
      },
      "execution_count": 39,
      "outputs": [
        {
          "output_type": "stream",
          "name": "stdout",
          "text": [
            "0     0\n",
            "1     1\n",
            "2     2\n",
            "3     3\n",
            "4    23\n",
            "Name: hour, dtype: int64\n"
          ]
        }
      ]
    },
    {
      "cell_type": "code",
      "source": [
        "#drop rows with missing values\n",
        "user_log_valid = user_log.dropna(how = 'any', subset = ['userId', 'sessionId'] )\n"
      ],
      "metadata": {
        "id": "VIlBu4_LzA9Q"
      },
      "execution_count": 46,
      "outputs": []
    },
    {
      "cell_type": "code",
      "source": [
        "user_log_valid.count()"
      ],
      "metadata": {
        "colab": {
          "base_uri": "https://localhost:8080/"
        },
        "id": "SS7ztJDszfib",
        "outputId": "d655bf15-9568-4113-cdca-74d4cddb8790"
      },
      "execution_count": 47,
      "outputs": [
        {
          "output_type": "execute_result",
          "data": {
            "text/plain": [
              "10000"
            ]
          },
          "metadata": {},
          "execution_count": 47
        }
      ]
    },
    {
      "cell_type": "markdown",
      "source": [
        "downgrade user accounts\n"
      ],
      "metadata": {
        "id": "_ZxqOKXEzzdD"
      }
    },
    {
      "cell_type": "code",
      "source": [
        "user_log_valid.filter(\"page = 'Submit Downgrade'\").show()"
      ],
      "metadata": {
        "colab": {
          "base_uri": "https://localhost:8080/"
        },
        "id": "9MjbDS6Tz2-W",
        "outputId": "fadbe09b-94f0-4a06-968b-3db3a3f5eec6"
      },
      "execution_count": 48,
      "outputs": [
        {
          "output_type": "stream",
          "name": "stdout",
          "text": [
            "+------+---------+---------+------+-------------+--------+------+-----+--------------------+------+----------------+-------------+---------+----+------+-------------+--------------------+------+----+\n",
            "|artist|     auth|firstName|gender|itemInSession|lastName|length|level|            location|method|            page| registration|sessionId|song|status|           ts|           userAgent|userId|hour|\n",
            "+------+---------+---------+------+-------------+--------+------+-----+--------------------+------+----------------+-------------+---------+----+------+-------------+--------------------+------+----+\n",
            "|  null|Logged In|    Kelly|     F|           24|  Newton|  null| paid|Houston-The Woodl...|   PUT|Submit Downgrade|1513283366284|     5931|null|   307|1513768454284|Mozilla/5.0 (Wind...|  1138|   1|\n",
            "+------+---------+---------+------+-------------+--------+------+-----+--------------------+------+----------------+-------------+---------+----+------+-------------+--------------------+------+----+\n",
            "\n"
          ]
        }
      ]
    },
    {
      "cell_type": "code",
      "source": [
        "user_log.select([\"userId\", \"firstName\", \"page\", \"level\", \"song\"]).where(user_log.userId == \"1138\").collect()\n"
      ],
      "metadata": {
        "colab": {
          "base_uri": "https://localhost:8080/"
        },
        "id": "R1sT6VMLz3A7",
        "outputId": "10a9a9ae-ceec-4636-86f9-346e2bc92910"
      },
      "execution_count": 54,
      "outputs": [
        {
          "output_type": "execute_result",
          "data": {
            "text/plain": [
              "[Row(userId='1138', firstName='Kelly', page='Home', level='paid', song=None),\n",
              " Row(userId='1138', firstName='Kelly', page='NextSong', level='paid', song='Everybody Everybody'),\n",
              " Row(userId='1138', firstName='Kelly', page='NextSong', level='paid', song='Gears'),\n",
              " Row(userId='1138', firstName='Kelly', page='NextSong', level='paid', song='Use Somebody'),\n",
              " Row(userId='1138', firstName='Kelly', page='NextSong', level='paid', song='Love Of My Life (1993 Digital Remaster)'),\n",
              " Row(userId='1138', firstName='Kelly', page='NextSong', level='paid', song='Down In The Valley Woe'),\n",
              " Row(userId='1138', firstName='Kelly', page='NextSong', level='paid', song='Treat Her Like A Lady'),\n",
              " Row(userId='1138', firstName='Kelly', page='NextSong', level='paid', song=\"Everybody Thinks You're An Angel\"),\n",
              " Row(userId='1138', firstName='Kelly', page='NextSong', level='paid', song='Fourteen Wives'),\n",
              " Row(userId='1138', firstName='Kelly', page='NextSong', level='paid', song='Love On The Rocks'),\n",
              " Row(userId='1138', firstName='Kelly', page='NextSong', level='paid', song='Breakeven'),\n",
              " Row(userId='1138', firstName='Kelly', page='NextSong', level='paid', song='Leaf House'),\n",
              " Row(userId='1138', firstName='Kelly', page='NextSong', level='paid', song='NAISEN KANSSA'),\n",
              " Row(userId='1138', firstName='Kelly', page='NextSong', level='paid', song=\"You're In My Heart\"),\n",
              " Row(userId='1138', firstName='Kelly', page='NextSong', level='paid', song='Roll On Down The Highway'),\n",
              " Row(userId='1138', firstName='Kelly', page='NextSong', level='paid', song='Plasticities (Remix)'),\n",
              " Row(userId='1138', firstName='Kelly', page='NextSong', level='paid', song='Secrets'),\n",
              " Row(userId='1138', firstName='Kelly', page='NextSong', level='paid', song='Hello'),\n",
              " Row(userId='1138', firstName='Kelly', page='NextSong', level='paid', song='I Never Told You'),\n",
              " Row(userId='1138', firstName='Kelly', page='NextSong', level='paid', song='Love Break Me'),\n",
              " Row(userId='1138', firstName='Kelly', page='NextSong', level='paid', song='One Touch One Bounce'),\n",
              " Row(userId='1138', firstName='Kelly', page='NextSong', level='paid', song='Undo'),\n",
              " Row(userId='1138', firstName='Kelly', page='NextSong', level='paid', song='Overdue (Blackbeard Remix)'),\n",
              " Row(userId='1138', firstName='Kelly', page='NextSong', level='paid', song='Slave To Love (1999 Digital Remaster)'),\n",
              " Row(userId='1138', firstName='Kelly', page='NextSong', level='paid', song='Stronger'),\n",
              " Row(userId='1138', firstName='Kelly', page='NextSong', level='paid', song='All Of Us (Album Version)'),\n",
              " Row(userId='1138', firstName='Kelly', page='NextSong', level='paid', song='Sehr kosmisch'),\n",
              " Row(userId='1138', firstName='Kelly', page='NextSong', level='paid', song='March Of The Celts'),\n",
              " Row(userId='1138', firstName='Kelly', page='NextSong', level='paid', song='Electricity'),\n",
              " Row(userId='1138', firstName='Kelly', page='NextSong', level='paid', song='Aces High'),\n",
              " Row(userId='1138', firstName='Kelly', page='NextSong', level='paid', song='Bananeira'),\n",
              " Row(userId='1138', firstName='Kelly', page='NextSong', level='paid', song='The General'),\n",
              " Row(userId='1138', firstName='Kelly', page='NextSong', level='paid', song='HÃ\\x83Â©roe De Leyenda (VersiÃ\\x83Â³n Maxi)'),\n",
              " Row(userId='1138', firstName='Kelly', page='NextSong', level='paid', song=\"Don't Stop The Music\"),\n",
              " Row(userId='1138', firstName='Kelly', page='NextSong', level='paid', song=\"You're The One\"),\n",
              " Row(userId='1138', firstName='Kelly', page='NextSong', level='paid', song='Entering White Cecilia'),\n",
              " Row(userId='1138', firstName='Kelly', page='NextSong', level='paid', song='Piccolo Cesare'),\n",
              " Row(userId='1138', firstName='Kelly', page='Help', level='paid', song=None),\n",
              " Row(userId='1138', firstName='Kelly', page='NextSong', level='paid', song='Last Christmas (Album Version)'),\n",
              " Row(userId='1138', firstName='Kelly', page='NextSong', level='paid', song='You Shook Me'),\n",
              " Row(userId='1138', firstName='Kelly', page='NextSong', level='paid', song='Going Steady'),\n",
              " Row(userId='1138', firstName='Kelly', page='NextSong', level='paid', song='My Name Is'),\n",
              " Row(userId='1138', firstName='Kelly', page='NextSong', level='paid', song='Undo'),\n",
              " Row(userId='1138', firstName='Kelly', page='NextSong', level='paid', song='Secrets'),\n",
              " Row(userId='1138', firstName='Kelly', page='NextSong', level='paid', song='Good Times Gone (Album Version)'),\n",
              " Row(userId='1138', firstName='Kelly', page='NextSong', level='paid', song='Angelito'),\n",
              " Row(userId='1138', firstName='Kelly', page='NextSong', level='paid', song='Batdance ( LP Version )'),\n",
              " Row(userId='1138', firstName='Kelly', page='Home', level='paid', song=None),\n",
              " Row(userId='1138', firstName='Kelly', page='NextSong', level='paid', song='DiÃ\\x83Â¡kdal'),\n",
              " Row(userId='1138', firstName='Kelly', page='NextSong', level='paid', song='Whirring'),\n",
              " Row(userId='1138', firstName='Kelly', page='NextSong', level='paid', song='Potholderz (feat. Count Bass D)'),\n",
              " Row(userId='1138', firstName='Kelly', page='NextSong', level='paid', song='Seaside'),\n",
              " Row(userId='1138', firstName='Kelly', page='NextSong', level='paid', song='Louder Than A Bomb'),\n",
              " Row(userId='1138', firstName='Kelly', page='NextSong', level='paid', song='Just Like You'),\n",
              " Row(userId='1138', firstName='Kelly', page='NextSong', level='paid', song=\"You're The One\"),\n",
              " Row(userId='1138', firstName='Kelly', page='NextSong', level='paid', song='Turn It Again (Album Version)'),\n",
              " Row(userId='1138', firstName='Kelly', page='NextSong', level='paid', song='Everywhere I Go'),\n",
              " Row(userId='1138', firstName='Kelly', page='NextSong', level='paid', song=\"Easy Skankin'\"),\n",
              " Row(userId='1138', firstName='Kelly', page='NextSong', level='paid', song='Roses'),\n",
              " Row(userId='1138', firstName='Kelly', page='NextSong', level='paid', song='Killing Me Softly With His Song'),\n",
              " Row(userId='1138', firstName='Kelly', page='NextSong', level='paid', song='The Razor (Album Version)'),\n",
              " Row(userId='1138', firstName='Kelly', page='NextSong', level='paid', song='Idols and Anchors'),\n",
              " Row(userId='1138', firstName='Kelly', page='Downgrade', level='paid', song=None),\n",
              " Row(userId='1138', firstName='Kelly', page='Submit Downgrade', level='paid', song=None),\n",
              " Row(userId='1138', firstName='Kelly', page='Home', level='free', song=None),\n",
              " Row(userId='1138', firstName='Kelly', page='NextSong', level='free', song='Bones'),\n",
              " Row(userId='1138', firstName='Kelly', page='Home', level='free', song=None),\n",
              " Row(userId='1138', firstName='Kelly', page='NextSong', level='free', song='Grenouilles Mantidactylus (Small Frogs)')]"
            ]
          },
          "metadata": {},
          "execution_count": 54
        }
      ]
    },
    {
      "cell_type": "code",
      "source": [
        "#signal user account downgrade\n",
        "flag_downgrade_event = udf(lambda x: 1 if x == \"submit downgrade\" else 0, IntegerType())\n",
        "user_log_valid = user_log_valid.withColumn(\"downgraded\", flag_downgrade_event(\"page\"))\n",
        "user_log_valid.take(5)\n"
      ],
      "metadata": {
        "colab": {
          "base_uri": "https://localhost:8080/"
        },
        "id": "2Wrw0u9A0sj1",
        "outputId": "9036852b-2e62-438e-9223-a190d9d19ca8"
      },
      "execution_count": 59,
      "outputs": [
        {
          "output_type": "execute_result",
          "data": {
            "text/plain": [
              "[Row(artist='Showaddywaddy', auth='Logged In', firstName='Kenneth', gender='M', itemInSession=112, lastName='Matthews', length=232.93342, level='paid', location='Charlotte-Concord-Gastonia, NC-SC', method='PUT', page='NextSong', registration=1509380319284, sessionId=5132, song='Christmas Tears Will Fall', status=200, ts=1513720872284, userAgent='\"Mozilla/5.0 (Windows NT 6.1) AppleWebKit/537.36 (KHTML, like Gecko) Chrome/36.0.1985.125 Safari/537.36\"', userId='1046', hour='23', downgraded=0),\n",
              " Row(artist='Lily Allen', auth='Logged In', firstName='Elizabeth', gender='F', itemInSession=7, lastName='Chase', length=195.23873, level='free', location='Shreveport-Bossier City, LA', method='PUT', page='NextSong', registration=1512718541284, sessionId=5027, song='Cheryl Tweedy', status=200, ts=1513720878284, userAgent='\"Mozilla/5.0 (Windows NT 6.1) AppleWebKit/537.36 (KHTML, like Gecko) Chrome/36.0.1985.143 Safari/537.36\"', userId='1000', hour='23', downgraded=0),\n",
              " Row(artist='Cobra Starship Featuring Leighton Meester', auth='Logged In', firstName='Vera', gender='F', itemInSession=6, lastName='Blackwell', length=196.20526, level='paid', location='Racine, WI', method='PUT', page='NextSong', registration=1499855749284, sessionId=5516, song='Good Girls Go Bad (Feat.Leighton Meester) (Album Version)', status=200, ts=1513720881284, userAgent='\"Mozilla/5.0 (Macintosh; Intel Mac OS X 10_9_4) AppleWebKit/537.78.2 (KHTML, like Gecko) Version/7.0.6 Safari/537.78.2\"', userId='2219', hour='23', downgraded=0),\n",
              " Row(artist='Alex Smoke', auth='Logged In', firstName='Sophee', gender='F', itemInSession=8, lastName='Barker', length=405.99465, level='paid', location='San Luis Obispo-Paso Robles-Arroyo Grande, CA', method='PUT', page='NextSong', registration=1513009647284, sessionId=2372, song=\"Don't See The Point\", status=200, ts=1513720905284, userAgent='\"Mozilla/5.0 (Windows NT 6.1; WOW64) AppleWebKit/537.36 (KHTML, like Gecko) Chrome/36.0.1985.143 Safari/537.36\"', userId='2373', hour='23', downgraded=0),\n",
              " Row(artist=None, auth='Logged In', firstName='Jordyn', gender='F', itemInSession=0, lastName='Jones', length=None, level='free', location='Syracuse, NY', method='GET', page='Home', registration=1513648531284, sessionId=1746, song=None, status=200, ts=1513720913284, userAgent='\"Mozilla/5.0 (Macintosh; Intel Mac OS X 10_9_4) AppleWebKit/537.36 (KHTML, like Gecko) Chrome/37.0.2062.94 Safari/537.36\"', userId='1747', hour='23', downgraded=0)]"
            ]
          },
          "metadata": {},
          "execution_count": 59
        }
      ]
    },
    {
      "cell_type": "code",
      "source": [
        "from pyspark.sql import Window\n",
        "windowval = Window.partitionBy(\"userId\").orderBy(desc(\"ts\")).rangeBetween(Window.unboundedPreceding, 0)\n",
        "user_log_valid = user_log_valid.withColumn(\"phase\", Fsum(\"downgraded\").over(windowval))\n",
        "\n",
        "user_log_valid.select([\"userId\", \"firstName\", \"ts\", \"page\", \"level\", \"phase\"]).where(user_log.userId == \"777\").sort(\"ts\").collect()\n",
        "\n"
      ],
      "metadata": {
        "colab": {
          "base_uri": "https://localhost:8080/"
        },
        "id": "QpblHiHZz3Hp",
        "outputId": "3cdcf6ac-1b2f-43da-dab1-32001d1242f8"
      },
      "execution_count": 70,
      "outputs": [
        {
          "output_type": "execute_result",
          "data": {
            "text/plain": [
              "[]"
            ]
          },
          "metadata": {},
          "execution_count": 70
        }
      ]
    },
    {
      "cell_type": "markdown",
      "source": [
        "key data insights"
      ],
      "metadata": {
        "id": "YLK1XcMo6KyV"
      }
    },
    {
      "cell_type": "code",
      "source": [
        "user_log.printSchema()"
      ],
      "metadata": {
        "colab": {
          "base_uri": "https://localhost:8080/"
        },
        "id": "kMrVfap36Jg_",
        "outputId": "80f086ef-93c6-4d20-a646-f2e66a8b40ea"
      },
      "execution_count": 92,
      "outputs": [
        {
          "output_type": "stream",
          "name": "stdout",
          "text": [
            "root\n",
            " |-- artist: string (nullable = true)\n",
            " |-- auth: string (nullable = true)\n",
            " |-- firstName: string (nullable = true)\n",
            " |-- gender: string (nullable = true)\n",
            " |-- itemInSession: long (nullable = true)\n",
            " |-- lastName: string (nullable = true)\n",
            " |-- length: double (nullable = true)\n",
            " |-- level: string (nullable = true)\n",
            " |-- location: string (nullable = true)\n",
            " |-- method: string (nullable = true)\n",
            " |-- page: string (nullable = true)\n",
            " |-- registration: long (nullable = true)\n",
            " |-- sessionId: long (nullable = true)\n",
            " |-- song: string (nullable = true)\n",
            " |-- status: long (nullable = true)\n",
            " |-- ts: long (nullable = true)\n",
            " |-- userAgent: string (nullable = true)\n",
            " |-- userId: string (nullable = true)\n",
            " |-- hour: string (nullable = true)\n",
            "\n"
          ]
        }
      ]
    },
    {
      "cell_type": "code",
      "source": [
        "user_log.head()"
      ],
      "metadata": {
        "colab": {
          "base_uri": "https://localhost:8080/"
        },
        "id": "vbsC9jXr6kwd",
        "outputId": "494502e5-0cb0-45c7-b133-eda3ba588ae1"
      },
      "execution_count": 93,
      "outputs": [
        {
          "output_type": "execute_result",
          "data": {
            "text/plain": [
              "Row(artist='Showaddywaddy', auth='Logged In', firstName='Kenneth', gender='M', itemInSession=112, lastName='Matthews', length=232.93342, level='paid', location='Charlotte-Concord-Gastonia, NC-SC', method='PUT', page='NextSong', registration=1509380319284, sessionId=5132, song='Christmas Tears Will Fall', status=200, ts=1513720872284, userAgent='\"Mozilla/5.0 (Windows NT 6.1) AppleWebKit/537.36 (KHTML, like Gecko) Chrome/36.0.1985.125 Safari/537.36\"', userId='1046', hour='23')"
            ]
          },
          "metadata": {},
          "execution_count": 93
        }
      ]
    },
    {
      "cell_type": "code",
      "source": [
        "#number of female users\n",
        "user_log.filter(user_log.gender == \"F\").select(\"userId\", \"gender\").dropDuplicates().count()"
      ],
      "metadata": {
        "colab": {
          "base_uri": "https://localhost:8080/"
        },
        "id": "jPUIKOA25lU6",
        "outputId": "9d0eff7b-2d1f-44a7-87d4-49e69a3bb0bc"
      },
      "execution_count": 91,
      "outputs": [
        {
          "output_type": "execute_result",
          "data": {
            "text/plain": [
              "462"
            ]
          },
          "metadata": {},
          "execution_count": 91
        }
      ]
    },
    {
      "cell_type": "code",
      "source": [
        "#number of songs played from the favorite artist\n",
        "user_log.filter(user_log.page == 'NextSong') \\\n",
        "    .select('Artist') \\\n",
        "    .groupBy('Artist') \\\n",
        "    .agg({'Artist':'count'}) \\\n",
        "    .withColumnRenamed('count(Artist)', 'Artistcount') \\\n",
        "    .sort(desc('Artistcount')) \\\n",
        "    .show(1)"
      ],
      "metadata": {
        "colab": {
          "base_uri": "https://localhost:8080/"
        },
        "id": "id2_MxDm6YW3",
        "outputId": "83356934-6e53-4922-83fb-e2bb142d64b7"
      },
      "execution_count": 94,
      "outputs": [
        {
          "output_type": "stream",
          "name": "stdout",
          "text": [
            "+--------+-----------+\n",
            "|  Artist|Artistcount|\n",
            "+--------+-----------+\n",
            "|Coldplay|         83|\n",
            "+--------+-----------+\n",
            "only showing top 1 row\n",
            "\n"
          ]
        }
      ]
    },
    {
      "cell_type": "code",
      "source": [
        ""
      ],
      "metadata": {
        "id": "728bEbOw8ImN"
      },
      "execution_count": null,
      "outputs": []
    },
    {
      "cell_type": "code",
      "source": [
        "from pyspark.sql.functions import isnan, count, when, col, desc, udf, col, sort_array, asc, avg\n",
        "\n",
        "#number of songs users listen to on average when visitng our home page\n",
        "function = udf(lambda ishome: int(ishome == 'Home'), IntegerType())\n",
        "user_window  = Window \\\n",
        "          .partitionBy('userID') \\\n",
        "          .orderBy(desc('ts')) \\\n",
        "          .rangeBetween(Window.unboundedPreceding, 0)\n",
        "\n",
        "cusum = user_log.filter((user_log.page == \"NextSong\") | (user_log.page == \"Home\")) \\\n",
        "      .select('userID', 'page', 'ts') \\\n",
        "      .withColumn('homevisit', function(col('page'))) \\\n",
        "      .withColumn('period', Fsum('homevisit').over(user_window))\n",
        "\n",
        "cusum.filter((cusum.page == \"NextSong\")) \\\n",
        "    .groupBy('userID', \"period\") \\\n",
        "    .agg({\"period\": \"count\"}) \\\n",
        "    .agg({\"count(period)\": \"avg\"}).show()\n"
      ],
      "metadata": {
        "colab": {
          "base_uri": "https://localhost:8080/"
        },
        "id": "HyRooAhy7amh",
        "outputId": "4cf1402f-8441-43ed-83a3-22fa5890be8c"
      },
      "execution_count": 97,
      "outputs": [
        {
          "output_type": "stream",
          "name": "stdout",
          "text": [
            "+------------------+\n",
            "|avg(count(period))|\n",
            "+------------------+\n",
            "| 6.898347107438017|\n",
            "+------------------+\n",
            "\n"
          ]
        }
      ]
    },
    {
      "cell_type": "code",
      "source": [
        ""
      ],
      "metadata": {
        "id": "6GZs2q8MVR_T"
      },
      "execution_count": null,
      "outputs": []
    }
  ]
}