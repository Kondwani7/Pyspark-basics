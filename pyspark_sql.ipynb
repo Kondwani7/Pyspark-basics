{
  "nbformat": 4,
  "nbformat_minor": 0,
  "metadata": {
    "colab": {
      "name": "pyspark-sql.ipynb",
      "provenance": [],
      "authorship_tag": "ABX9TyM5aOTE0oyK/+oplZYDWXL4",
      "include_colab_link": true
    },
    "kernelspec": {
      "name": "python3",
      "display_name": "Python 3"
    },
    "language_info": {
      "name": "python"
    }
  },
  "cells": [
    {
      "cell_type": "markdown",
      "metadata": {
        "id": "view-in-github",
        "colab_type": "text"
      },
      "source": [
        "<a href=\"https://colab.research.google.com/github/Kondwani7/Pyspark-basics/blob/main/pyspark_sql.ipynb\" target=\"_parent\"><img src=\"https://colab.research.google.com/assets/colab-badge.svg\" alt=\"Open In Colab\"/></a>"
      ]
    },
    {
      "cell_type": "code",
      "source": [
        "!pip install pyspark"
      ],
      "metadata": {
        "colab": {
          "base_uri": "https://localhost:8080/"
        },
        "id": "0LnFh87jCb7C",
        "outputId": "f6dac275-7410-49f1-9297-a8409cdedbce"
      },
      "execution_count": 2,
      "outputs": [
        {
          "output_type": "stream",
          "name": "stdout",
          "text": [
            "Collecting pyspark\n",
            "  Downloading pyspark-3.2.0.tar.gz (281.3 MB)\n",
            "\u001b[K     |████████████████████████████████| 281.3 MB 34 kB/s \n",
            "\u001b[?25hCollecting py4j==0.10.9.2\n",
            "  Downloading py4j-0.10.9.2-py2.py3-none-any.whl (198 kB)\n",
            "\u001b[K     |████████████████████████████████| 198 kB 52.5 MB/s \n",
            "\u001b[?25hBuilding wheels for collected packages: pyspark\n",
            "  Building wheel for pyspark (setup.py) ... \u001b[?25l\u001b[?25hdone\n",
            "  Created wheel for pyspark: filename=pyspark-3.2.0-py2.py3-none-any.whl size=281805912 sha256=64cb5964124c5064b6c30a51aa046714037d0396358bc2cff7546957a9774826\n",
            "  Stored in directory: /root/.cache/pip/wheels/0b/de/d2/9be5d59d7331c6c2a7c1b6d1a4f463ce107332b1ecd4e80718\n",
            "Successfully built pyspark\n",
            "Installing collected packages: py4j, pyspark\n",
            "Successfully installed py4j-0.10.9.2 pyspark-3.2.0\n"
          ]
        }
      ]
    },
    {
      "cell_type": "code",
      "source": [
        "from google.colab import drive\n",
        "drive.mount('/content/drive', force_remount= True)"
      ],
      "metadata": {
        "colab": {
          "base_uri": "https://localhost:8080/"
        },
        "id": "ss0D97c2CfKR",
        "outputId": "0bffde1b-900c-4479-f1ab-266029a710b6"
      },
      "execution_count": 3,
      "outputs": [
        {
          "output_type": "stream",
          "name": "stdout",
          "text": [
            "Mounted at /content/drive\n"
          ]
        }
      ]
    },
    {
      "cell_type": "code",
      "execution_count": 4,
      "metadata": {
        "id": "BanZzgvR-cab"
      },
      "outputs": [],
      "source": [
        "from pyspark.sql import SparkSession\n",
        "from pyspark.sql.functions import udf\n",
        "from pyspark.sql.types import StringType\n",
        "from pyspark.sql.types import IntegerType\n",
        "from pyspark.sql.functions import desc\n",
        "from pyspark.sql.functions import asc\n",
        "from pyspark.sql.functions import sum as Fsum\n",
        "\n",
        "import datetime\n",
        "\n",
        "import numpy as np\n",
        "import pandas as pd\n",
        "%matplotlib inline\n",
        "import matplotlib.pyplot as plt"
      ]
    },
    {
      "cell_type": "code",
      "source": [
        "spark = SparkSession \\\n",
        "      .builder \\\n",
        "      .appName('SQL spark data wrangling') \\\n",
        "      .getOrCreate()\n"
      ],
      "metadata": {
        "id": "qzF_3DImCVrk"
      },
      "execution_count": 5,
      "outputs": []
    },
    {
      "cell_type": "code",
      "source": [
        "path = '/content/drive/MyDrive/practice datasets/sparkify_log_small.json'\n",
        "user_log = spark.read.json(path)"
      ],
      "metadata": {
        "id": "NNq0sxBcC5Xx"
      },
      "execution_count": 6,
      "outputs": []
    },
    {
      "cell_type": "code",
      "source": [
        "user_log.take(5)"
      ],
      "metadata": {
        "colab": {
          "base_uri": "https://localhost:8080/"
        },
        "id": "1Muf3ddXD_Np",
        "outputId": "3c0e18d7-a3d5-40e1-852f-181c812f3d38"
      },
      "execution_count": 7,
      "outputs": [
        {
          "output_type": "execute_result",
          "data": {
            "text/plain": [
              "[Row(artist='Showaddywaddy', auth='Logged In', firstName='Kenneth', gender='M', itemInSession=112, lastName='Matthews', length=232.93342, level='paid', location='Charlotte-Concord-Gastonia, NC-SC', method='PUT', page='NextSong', registration=1509380319284, sessionId=5132, song='Christmas Tears Will Fall', status=200, ts=1513720872284, userAgent='\"Mozilla/5.0 (Windows NT 6.1) AppleWebKit/537.36 (KHTML, like Gecko) Chrome/36.0.1985.125 Safari/537.36\"', userId='1046'),\n",
              " Row(artist='Lily Allen', auth='Logged In', firstName='Elizabeth', gender='F', itemInSession=7, lastName='Chase', length=195.23873, level='free', location='Shreveport-Bossier City, LA', method='PUT', page='NextSong', registration=1512718541284, sessionId=5027, song='Cheryl Tweedy', status=200, ts=1513720878284, userAgent='\"Mozilla/5.0 (Windows NT 6.1) AppleWebKit/537.36 (KHTML, like Gecko) Chrome/36.0.1985.143 Safari/537.36\"', userId='1000'),\n",
              " Row(artist='Cobra Starship Featuring Leighton Meester', auth='Logged In', firstName='Vera', gender='F', itemInSession=6, lastName='Blackwell', length=196.20526, level='paid', location='Racine, WI', method='PUT', page='NextSong', registration=1499855749284, sessionId=5516, song='Good Girls Go Bad (Feat.Leighton Meester) (Album Version)', status=200, ts=1513720881284, userAgent='\"Mozilla/5.0 (Macintosh; Intel Mac OS X 10_9_4) AppleWebKit/537.78.2 (KHTML, like Gecko) Version/7.0.6 Safari/537.78.2\"', userId='2219'),\n",
              " Row(artist='Alex Smoke', auth='Logged In', firstName='Sophee', gender='F', itemInSession=8, lastName='Barker', length=405.99465, level='paid', location='San Luis Obispo-Paso Robles-Arroyo Grande, CA', method='PUT', page='NextSong', registration=1513009647284, sessionId=2372, song=\"Don't See The Point\", status=200, ts=1513720905284, userAgent='\"Mozilla/5.0 (Windows NT 6.1; WOW64) AppleWebKit/537.36 (KHTML, like Gecko) Chrome/36.0.1985.143 Safari/537.36\"', userId='2373'),\n",
              " Row(artist=None, auth='Logged In', firstName='Jordyn', gender='F', itemInSession=0, lastName='Jones', length=None, level='free', location='Syracuse, NY', method='GET', page='Home', registration=1513648531284, sessionId=1746, song=None, status=200, ts=1513720913284, userAgent='\"Mozilla/5.0 (Macintosh; Intel Mac OS X 10_9_4) AppleWebKit/537.36 (KHTML, like Gecko) Chrome/37.0.2062.94 Safari/537.36\"', userId='1747')]"
            ]
          },
          "metadata": {},
          "execution_count": 7
        }
      ]
    },
    {
      "cell_type": "code",
      "source": [
        "user_log.printSchema()"
      ],
      "metadata": {
        "colab": {
          "base_uri": "https://localhost:8080/"
        },
        "id": "Q5NLlYlkEC5B",
        "outputId": "2ae718fc-65ab-4dbe-f997-37aa003a9322"
      },
      "execution_count": 8,
      "outputs": [
        {
          "output_type": "stream",
          "name": "stdout",
          "text": [
            "root\n",
            " |-- artist: string (nullable = true)\n",
            " |-- auth: string (nullable = true)\n",
            " |-- firstName: string (nullable = true)\n",
            " |-- gender: string (nullable = true)\n",
            " |-- itemInSession: long (nullable = true)\n",
            " |-- lastName: string (nullable = true)\n",
            " |-- length: double (nullable = true)\n",
            " |-- level: string (nullable = true)\n",
            " |-- location: string (nullable = true)\n",
            " |-- method: string (nullable = true)\n",
            " |-- page: string (nullable = true)\n",
            " |-- registration: long (nullable = true)\n",
            " |-- sessionId: long (nullable = true)\n",
            " |-- song: string (nullable = true)\n",
            " |-- status: long (nullable = true)\n",
            " |-- ts: long (nullable = true)\n",
            " |-- userAgent: string (nullable = true)\n",
            " |-- userId: string (nullable = true)\n",
            "\n"
          ]
        }
      ]
    },
    {
      "cell_type": "code",
      "source": [
        "#create a temp view that will be used to run sql queries\n",
        "user_log.createOrReplaceTempView(\"user_log_table\")\n",
        "#SQL query\n",
        "spark.sql(\"SELECT * FROM user_log_table LIMIT 5\").show()\n"
      ],
      "metadata": {
        "colab": {
          "base_uri": "https://localhost:8080/"
        },
        "id": "bhj4TkjuEGGu",
        "outputId": "98d73a13-fd21-4728-9e29-596366005f19"
      },
      "execution_count": 10,
      "outputs": [
        {
          "output_type": "stream",
          "name": "stdout",
          "text": [
            "+--------------------+---------+---------+------+-------------+---------+---------+-----+--------------------+------+--------+-------------+---------+--------------------+------+-------------+--------------------+------+\n",
            "|              artist|     auth|firstName|gender|itemInSession| lastName|   length|level|            location|method|    page| registration|sessionId|                song|status|           ts|           userAgent|userId|\n",
            "+--------------------+---------+---------+------+-------------+---------+---------+-----+--------------------+------+--------+-------------+---------+--------------------+------+-------------+--------------------+------+\n",
            "|       Showaddywaddy|Logged In|  Kenneth|     M|          112| Matthews|232.93342| paid|Charlotte-Concord...|   PUT|NextSong|1509380319284|     5132|Christmas Tears W...|   200|1513720872284|\"Mozilla/5.0 (Win...|  1046|\n",
            "|          Lily Allen|Logged In|Elizabeth|     F|            7|    Chase|195.23873| free|Shreveport-Bossie...|   PUT|NextSong|1512718541284|     5027|       Cheryl Tweedy|   200|1513720878284|\"Mozilla/5.0 (Win...|  1000|\n",
            "|Cobra Starship Fe...|Logged In|     Vera|     F|            6|Blackwell|196.20526| paid|          Racine, WI|   PUT|NextSong|1499855749284|     5516|Good Girls Go Bad...|   200|1513720881284|\"Mozilla/5.0 (Mac...|  2219|\n",
            "|          Alex Smoke|Logged In|   Sophee|     F|            8|   Barker|405.99465| paid|San Luis Obispo-P...|   PUT|NextSong|1513009647284|     2372| Don't See The Point|   200|1513720905284|\"Mozilla/5.0 (Win...|  2373|\n",
            "|                null|Logged In|   Jordyn|     F|            0|    Jones|     null| free|        Syracuse, NY|   GET|    Home|1513648531284|     1746|                null|   200|1513720913284|\"Mozilla/5.0 (Mac...|  1747|\n",
            "+--------------------+---------+---------+------+-------------+---------+---------+-----+--------------------+------+--------+-------------+---------+--------------------+------+-------------+--------------------+------+\n",
            "\n"
          ]
        }
      ]
    },
    {
      "cell_type": "markdown",
      "source": [
        "sample queries"
      ],
      "metadata": {
        "id": "vrpnuEisGVa1"
      }
    },
    {
      "cell_type": "code",
      "source": [
        "#get first 5 queries\n",
        "spark.sql(\"SELECT artist, auth FROM user_log_table LIMIT 5\").show()\n"
      ],
      "metadata": {
        "colab": {
          "base_uri": "https://localhost:8080/"
        },
        "id": "UpuLHy4vGU1x",
        "outputId": "650aafeb-5f3d-4a8e-8ad7-4f751fa1d39c"
      },
      "execution_count": 21,
      "outputs": [
        {
          "output_type": "stream",
          "name": "stdout",
          "text": [
            "+--------------------+---------+\n",
            "|              artist|     auth|\n",
            "+--------------------+---------+\n",
            "|       Showaddywaddy|Logged In|\n",
            "|          Lily Allen|Logged In|\n",
            "|Cobra Starship Fe...|Logged In|\n",
            "|          Alex Smoke|Logged In|\n",
            "|                null|Logged In|\n",
            "+--------------------+---------+\n",
            "\n"
          ]
        }
      ]
    },
    {
      "cell_type": "code",
      "source": [
        "#get number of artists\n",
        "spark.sql(\"SELECT COUNT(artist) FROM user_log_table\").show()\n"
      ],
      "metadata": {
        "colab": {
          "base_uri": "https://localhost:8080/"
        },
        "id": "5yE_bmcBGaai",
        "outputId": "2681363f-bcf4-48b8-d6c2-46866c24accf"
      },
      "execution_count": 22,
      "outputs": [
        {
          "output_type": "stream",
          "name": "stdout",
          "text": [
            "+-------------+\n",
            "|count(artist)|\n",
            "+-------------+\n",
            "|         8347|\n",
            "+-------------+\n",
            "\n"
          ]
        }
      ]
    },
    {
      "cell_type": "code",
      "source": [
        "#get number of users\n",
        "spark.sql(\"SELECT COUNT(userID) FROM user_log_table\").show()"
      ],
      "metadata": {
        "colab": {
          "base_uri": "https://localhost:8080/"
        },
        "id": "_GXrft3iGacc",
        "outputId": "7e1f522f-66cd-4e46-9b03-0d22955c87b4"
      },
      "execution_count": 24,
      "outputs": [
        {
          "output_type": "stream",
          "name": "stdout",
          "text": [
            "+-------------+\n",
            "|count(userID)|\n",
            "+-------------+\n",
            "|        10000|\n",
            "+-------------+\n",
            "\n"
          ]
        }
      ]
    },
    {
      "cell_type": "code",
      "source": [
        "#get daa on a specific user\n",
        "spark.sql(\"SELECT firstname, lastName, level, gender, song FROM user_log_table WHERE userId=='1046'\").collect()"
      ],
      "metadata": {
        "colab": {
          "base_uri": "https://localhost:8080/"
        },
        "id": "Qx-C2omTESt7",
        "outputId": "51f9bdc4-7cbb-4fab-d774-98c4ce177918"
      },
      "execution_count": 25,
      "outputs": [
        {
          "output_type": "execute_result",
          "data": {
            "text/plain": [
              "[Row(firstname='Kenneth', lastName='Matthews', level='paid', gender='M', song='Christmas Tears Will Fall'),\n",
              " Row(firstname='Kenneth', lastName='Matthews', level='paid', gender='M', song='Be Wary Of A Woman'),\n",
              " Row(firstname='Kenneth', lastName='Matthews', level='paid', gender='M', song='Public Enemy No.1'),\n",
              " Row(firstname='Kenneth', lastName='Matthews', level='paid', gender='M', song='Reign Of The Tyrants'),\n",
              " Row(firstname='Kenneth', lastName='Matthews', level='paid', gender='M', song='Father And Son'),\n",
              " Row(firstname='Kenneth', lastName='Matthews', level='paid', gender='M', song='No. 5'),\n",
              " Row(firstname='Kenneth', lastName='Matthews', level='paid', gender='M', song='Seventeen'),\n",
              " Row(firstname='Kenneth', lastName='Matthews', level='paid', gender='M', song=None),\n",
              " Row(firstname='Kenneth', lastName='Matthews', level='paid', gender='M', song='War on war'),\n",
              " Row(firstname='Kenneth', lastName='Matthews', level='paid', gender='M', song='Killermont Street'),\n",
              " Row(firstname='Kenneth', lastName='Matthews', level='paid', gender='M', song='Black & Blue'),\n",
              " Row(firstname='Kenneth', lastName='Matthews', level='paid', gender='M', song=None),\n",
              " Row(firstname='Kenneth', lastName='Matthews', level='paid', gender='M', song=None),\n",
              " Row(firstname='Kenneth', lastName='Matthews', level='paid', gender='M', song='Heads Will Roll'),\n",
              " Row(firstname='Kenneth', lastName='Matthews', level='paid', gender='M', song='Bleed It Out [Live At Milton Keynes]'),\n",
              " Row(firstname='Kenneth', lastName='Matthews', level='paid', gender='M', song='Clocks'),\n",
              " Row(firstname='Kenneth', lastName='Matthews', level='paid', gender='M', song='Love Rain'),\n",
              " Row(firstname='Kenneth', lastName='Matthews', level='paid', gender='M', song=\"Ry Ry's Song (Album Version)\"),\n",
              " Row(firstname='Kenneth', lastName='Matthews', level='paid', gender='M', song='The Invisible Man'),\n",
              " Row(firstname='Kenneth', lastName='Matthews', level='paid', gender='M', song='Catch You Baby (Steve Pitron & Max Sanna Radio Edit)'),\n",
              " Row(firstname='Kenneth', lastName='Matthews', level='paid', gender='M', song='Ask The Mountains'),\n",
              " Row(firstname='Kenneth', lastName='Matthews', level='paid', gender='M', song='Given Up (Album Version)'),\n",
              " Row(firstname='Kenneth', lastName='Matthews', level='paid', gender='M', song='El Cuatrero'),\n",
              " Row(firstname='Kenneth', lastName='Matthews', level='paid', gender='M', song='Hero/Heroine'),\n",
              " Row(firstname='Kenneth', lastName='Matthews', level='paid', gender='M', song='Spring'),\n",
              " Row(firstname='Kenneth', lastName='Matthews', level='paid', gender='M', song='Rising Moon'),\n",
              " Row(firstname='Kenneth', lastName='Matthews', level='paid', gender='M', song='Tough Little Boys'),\n",
              " Row(firstname='Kenneth', lastName='Matthews', level='paid', gender='M', song=\"Qu'Est-Ce Que T'Es Belle\"),\n",
              " Row(firstname='Kenneth', lastName='Matthews', level='paid', gender='M', song='Secrets'),\n",
              " Row(firstname='Kenneth', lastName='Matthews', level='paid', gender='M', song='Under The Gun')]"
            ]
          },
          "metadata": {},
          "execution_count": 25
        }
      ]
    },
    {
      "cell_type": "code",
      "source": [
        "#get the different pages of the company website\n",
        "spark.sql('''\n",
        "          SELECT DISTINCT page \n",
        "          FROM user_log_table\n",
        "          ORDER BY page ASC\n",
        "          ''').show()\n",
        "\n"
      ],
      "metadata": {
        "colab": {
          "base_uri": "https://localhost:8080/"
        },
        "id": "6c0vcr0oFDYh",
        "outputId": "c5a06a82-0b7b-4cbc-aea3-02731193e892"
      },
      "execution_count": 26,
      "outputs": [
        {
          "output_type": "stream",
          "name": "stdout",
          "text": [
            "+----------------+\n",
            "|            page|\n",
            "+----------------+\n",
            "|           About|\n",
            "|       Downgrade|\n",
            "|           Error|\n",
            "|            Help|\n",
            "|            Home|\n",
            "|           Login|\n",
            "|          Logout|\n",
            "|        NextSong|\n",
            "|   Save Settings|\n",
            "|        Settings|\n",
            "|Submit Downgrade|\n",
            "|  Submit Upgrade|\n",
            "|         Upgrade|\n",
            "+----------------+\n",
            "\n"
          ]
        }
      ]
    },
    {
      "cell_type": "markdown",
      "source": [
        "#User Defined Functions"
      ],
      "metadata": {
        "id": "JMGjyj9FHWLX"
      }
    },
    {
      "cell_type": "code",
      "source": [
        "#mapping the songs listen to at each time stamp in hours\n",
        "spark.udf.register(\"get_hour\", lambda x : int(datetime.datetime.fromtimestamp(x / 1000.0).hour))\n"
      ],
      "metadata": {
        "colab": {
          "base_uri": "https://localhost:8080/"
        },
        "id": "TLhUke3yGxun",
        "outputId": "bd8cc63a-b203-45f4-b400-7775bddc2a2c"
      },
      "execution_count": 28,
      "outputs": [
        {
          "output_type": "execute_result",
          "data": {
            "text/plain": [
              "<function __main__.<lambda>>"
            ]
          },
          "metadata": {},
          "execution_count": 28
        }
      ]
    },
    {
      "cell_type": "code",
      "source": [
        "#songs listen to at each time stamp in hours\n",
        "spark.sql('''\n",
        "          SELECT *, get_hour(ts) AS hour\n",
        "          FROM user_log_table\n",
        "          LIMIT 5\n",
        "          ''').show()\n",
        "\n"
      ],
      "metadata": {
        "colab": {
          "base_uri": "https://localhost:8080/"
        },
        "id": "1BAibiRHH59M",
        "outputId": "a11ff278-e8c8-4179-f87d-a94e67475c1e"
      },
      "execution_count": 31,
      "outputs": [
        {
          "output_type": "stream",
          "name": "stdout",
          "text": [
            "+--------------------+---------+---------+------+-------------+---------+---------+-----+--------------------+------+--------+-------------+---------+--------------------+------+-------------+--------------------+------+----+\n",
            "|              artist|     auth|firstName|gender|itemInSession| lastName|   length|level|            location|method|    page| registration|sessionId|                song|status|           ts|           userAgent|userId|hour|\n",
            "+--------------------+---------+---------+------+-------------+---------+---------+-----+--------------------+------+--------+-------------+---------+--------------------+------+-------------+--------------------+------+----+\n",
            "|       Showaddywaddy|Logged In|  Kenneth|     M|          112| Matthews|232.93342| paid|Charlotte-Concord...|   PUT|NextSong|1509380319284|     5132|Christmas Tears W...|   200|1513720872284|\"Mozilla/5.0 (Win...|  1046|  22|\n",
            "|          Lily Allen|Logged In|Elizabeth|     F|            7|    Chase|195.23873| free|Shreveport-Bossie...|   PUT|NextSong|1512718541284|     5027|       Cheryl Tweedy|   200|1513720878284|\"Mozilla/5.0 (Win...|  1000|  22|\n",
            "|Cobra Starship Fe...|Logged In|     Vera|     F|            6|Blackwell|196.20526| paid|          Racine, WI|   PUT|NextSong|1499855749284|     5516|Good Girls Go Bad...|   200|1513720881284|\"Mozilla/5.0 (Mac...|  2219|  22|\n",
            "|          Alex Smoke|Logged In|   Sophee|     F|            8|   Barker|405.99465| paid|San Luis Obispo-P...|   PUT|NextSong|1513009647284|     2372| Don't See The Point|   200|1513720905284|\"Mozilla/5.0 (Win...|  2373|  22|\n",
            "|                null|Logged In|   Jordyn|     F|            0|    Jones|     null| free|        Syracuse, NY|   GET|    Home|1513648531284|     1746|                null|   200|1513720913284|\"Mozilla/5.0 (Mac...|  1747|  22|\n",
            "+--------------------+---------+---------+------+-------------+---------+---------+-----+--------------------+------+--------+-------------+---------+--------------------+------+-------------+--------------------+------+----+\n",
            "\n"
          ]
        }
      ]
    },
    {
      "cell_type": "code",
      "source": [
        "#get songs played at each hour\n",
        "songs_in_hour = spark.sql('''\n",
        "                          SELECT get_hour(ts) AS hour, COUNT(*) as plays_per_hour\n",
        "                          FROM user_log_table\n",
        "                          WHERE page = \"NextSong\"\n",
        "                          GROUP BY hour\n",
        "                          ORDER BY cast(hour as int) ASC\n",
        "                          ''')\n",
        "\n"
      ],
      "metadata": {
        "id": "Mq2GRoNIIMCC"
      },
      "execution_count": 34,
      "outputs": []
    },
    {
      "cell_type": "code",
      "source": [
        "songs_in_hour.show()"
      ],
      "metadata": {
        "colab": {
          "base_uri": "https://localhost:8080/"
        },
        "id": "6cBxEVdtI_9o",
        "outputId": "21bfeaac-6260-4f5a-ce0d-43ec004abc42"
      },
      "execution_count": 35,
      "outputs": [
        {
          "output_type": "stream",
          "name": "stdout",
          "text": [
            "+----+--------------+\n",
            "|hour|plays_per_hour|\n",
            "+----+--------------+\n",
            "|   0|           456|\n",
            "|   1|           454|\n",
            "|   2|           382|\n",
            "|   3|           302|\n",
            "|   4|           352|\n",
            "|   5|           276|\n",
            "|   6|           348|\n",
            "|   7|           358|\n",
            "|   8|           375|\n",
            "|   9|           249|\n",
            "|  10|           216|\n",
            "|  11|           228|\n",
            "|  12|           251|\n",
            "|  13|           339|\n",
            "|  14|           462|\n",
            "|  15|           479|\n",
            "|  16|           484|\n",
            "|  17|           430|\n",
            "|  18|           362|\n",
            "|  19|           295|\n",
            "+----+--------------+\n",
            "only showing top 20 rows\n",
            "\n"
          ]
        }
      ]
    },
    {
      "cell_type": "code",
      "source": [
        "#convert to a pandas dataframe\n",
        "songs_in_hour_pd = songs_in_hour.toPandas()\n",
        "print(songs_in_hour_pd)"
      ],
      "metadata": {
        "colab": {
          "base_uri": "https://localhost:8080/"
        },
        "id": "AZHIwa3LJQXV",
        "outputId": "eb3847f8-fd73-491f-efaf-5cb6ea4f097d"
      },
      "execution_count": 41,
      "outputs": [
        {
          "output_type": "stream",
          "name": "stdout",
          "text": [
            "   hour  plays_per_hour\n",
            "0     0             456\n",
            "1     1             454\n",
            "2     2             382\n",
            "3     3             302\n",
            "4     4             352\n",
            "5     5             276\n",
            "6     6             348\n",
            "7     7             358\n",
            "8     8             375\n",
            "9     9             249\n",
            "10   10             216\n",
            "11   11             228\n",
            "12   12             251\n",
            "13   13             339\n",
            "14   14             462\n",
            "15   15             479\n",
            "16   16             484\n",
            "17   17             430\n",
            "18   18             362\n",
            "19   19             295\n",
            "20   20             257\n",
            "21   21             248\n",
            "22   22             369\n",
            "23   23             375\n"
          ]
        }
      ]
    },
    {
      "cell_type": "code",
      "source": [
        "peak_plays = max(songs_in_hour_pd['plays_per_hour'])\n",
        "print(peak_plays)"
      ],
      "metadata": {
        "colab": {
          "base_uri": "https://localhost:8080/"
        },
        "id": "bCDN0_psJl7n",
        "outputId": "ba1d24d9-cc06-4648-f072-60f85678fc72"
      },
      "execution_count": 45,
      "outputs": [
        {
          "output_type": "stream",
          "name": "stdout",
          "text": [
            "484\n"
          ]
        }
      ]
    },
    {
      "cell_type": "code",
      "source": [
        "#number of female users\n",
        "spark.sql('''\n",
        "          SELECT COUNT(DISTINCT userID) \n",
        "          FROM user_log_table\n",
        "          WHERE gender = 'F'\n",
        "          ''').show()\n"
      ],
      "metadata": {
        "colab": {
          "base_uri": "https://localhost:8080/"
        },
        "id": "RTDgcgusJ97v",
        "outputId": "7ce0c0dc-dc81-4da5-8d3e-f02ecb979ced"
      },
      "execution_count": 47,
      "outputs": [
        {
          "output_type": "stream",
          "name": "stdout",
          "text": [
            "+----------------------+\n",
            "|count(DISTINCT userID)|\n",
            "+----------------------+\n",
            "|                   462|\n",
            "+----------------------+\n",
            "\n"
          ]
        }
      ]
    },
    {
      "cell_type": "code",
      "source": [
        "#how many songs where played by the top 5 favorite artists by song plays\n",
        "spark.sql('''\n",
        "          SELECT Artist, COUNT(Artist) AS plays\n",
        "          FROM user_log_table\n",
        "          GROUP BY Artist\n",
        "          ORDER BY plays DESC\n",
        "          LIMIT 5\n",
        "          ''').show()\n",
        "\n"
      ],
      "metadata": {
        "colab": {
          "base_uri": "https://localhost:8080/"
        },
        "id": "0cdhOjysLCPF",
        "outputId": "419c79a6-7c4d-49ad-d8b9-0409c8650849"
      },
      "execution_count": 49,
      "outputs": [
        {
          "output_type": "stream",
          "name": "stdout",
          "text": [
            "+--------------------+-----+\n",
            "|              Artist|plays|\n",
            "+--------------------+-----+\n",
            "|            Coldplay|   83|\n",
            "|       Kings Of Leon|   69|\n",
            "|Florence + The Ma...|   52|\n",
            "|            BjÃÂ¶rk|   46|\n",
            "|       Dwight Yoakam|   45|\n",
            "+--------------------+-----+\n",
            "\n"
          ]
        }
      ]
    },
    {
      "cell_type": "code",
      "source": [
        ""
      ],
      "metadata": {
        "id": "LKKkCdb8L0s6"
      },
      "execution_count": null,
      "outputs": []
    }
  ]
}